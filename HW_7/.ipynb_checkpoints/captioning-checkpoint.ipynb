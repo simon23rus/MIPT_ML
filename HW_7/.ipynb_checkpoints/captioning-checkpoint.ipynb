{
 "cells": [
  {
   "cell_type": "markdown",
   "metadata": {},
   "source": [
    "<h1 align=\"center\">First of all -- Checking Questions</h1> \n",
    "\n",
    "**Вопрос 1**: Можно ли использовать сверточные сети для классификации текстов? Если нет обоснуйте :D, если да то как? как решить проблему с произвольной длиной входа?\n",
    "\n",
    "Берется представление каждого слова(например, исп. word2vec), из этого получается матрица, а дальше идем сверткой(фильтры будут просто идти вдоль k последовательны слов), дальше max-pooling и DenseLayer. вот и все\n",
    "\n",
    "\n",
    "**Вопрос 2**: Чем LSTM лучше/хуже чем обычная RNN?\n",
    "\n",
    "В каждой ячейке более сложная структура(есть возможность забывать информацию, считывать не все, а часть и т.д. это очень сильно улучшает нейронку)\n",
    "\n",
    "**Вопрос 3**:  Выпишите производную $\\frac{d c_{n+1}}{d c_{k}}$ для LSTM http://colah.github.io/posts/2015-08-Understanding-LSTMs/, объясните формулу, когда производная затухает, когда взрывается?\n",
    "\n",
    "Так как $C_{n + 1} = f_n \\cdot C_n + i_n \\cdot \\tilde{C_{n}}$, то производная $\\frac{\\partial C_{n + 1}}{\\partial C_n} = f_n$. Ну тогда воспользуемся chain rule и получим, что $\\frac{\\partial C_{n + 1}}{\\partial C_k} = \\prod\\limits_{j = k}^{n} f_j$\n",
    "\n",
    "**Вопрос 4**: Зачем нужен TBPTT почему BPTT плох?\n",
    "\n",
    "TBPTT отличается от BPTT только тем, что он Truncated, то есть например, у нас на вход подается вектор размерности Т, где Т очень большое, тогда он просто берет обрезает на цепочке длины k. Это нужно для того, чтобы не получить такой штуки (1 - $\\varepsilon)^T \\sim 0$, а $(1 + \\varepsilon)^T \\sim +\\infty$ \n",
    "\n",
    "\n",
    "**Вопрос 5**: Как комбинировать рекуррентные и сверточные сети, а главное зачем? Приведите несколько примеров реальных задач.\n",
    "\n",
    "Например, можно получить очень хорошее признаковое описание картинок, используя CNN и подать их в RNN , ну или наоброт. Например, можно генерить по тексту картинку\n",
    "\n",
    "**Вопрос 6**: Объясните интуицию выбора размера эмбединг слоя? почему это опасное место?\n",
    "\n",
    "Сделав его большим или маленьким , нам может не хватить степеней свободы или наоборот слмшком много ненужных компонент. Например, вместо эмбеддинга лучше будет использовать word2vec репрезентацию"
   ]
  },
  {
   "cell_type": "markdown",
   "metadata": {},
   "source": [
    "* Arseniy Ashuha, you can text me ```ars.ashuha@gmail.com```, Александр Панин\n",
    "\n",
    "<h1 align=\"center\"> Image Captioning </h1> \n",
    "\n",
    "In this seminar you'll be going through the image captioning pipeline. It can help u https://ars-ashuha.ru/slides/2016.11.11_ImageCaptioning/image_captionong.pdf \n",
    "\n",
    "To begin with, let us download the dataset of image features from a pre-trained GoogleNet."
   ]
  },
  {
   "cell_type": "code",
   "execution_count": 1,
   "metadata": {
    "collapsed": true
   },
   "outputs": [],
   "source": [
    "# !wget https://www.dropbox.com/s/d50pqlm19c6f6w5/data.tar.gz?dl=0 -O data.tar.gz\n",
    "# !tar -xvzf data.tar.gz"
   ]
  },
  {
   "cell_type": "markdown",
   "metadata": {},
   "source": [
    "### Data preprocessing"
   ]
  },
  {
   "cell_type": "code",
   "execution_count": 2,
   "metadata": {},
   "outputs": [
    {
     "name": "stdout",
     "output_type": "stream",
     "text": [
      "CPU times: user 2.54 s, sys: 2.25 s, total: 4.79 s\n",
      "Wall time: 2.77 s\n"
     ]
    }
   ],
   "source": [
    "%%time\n",
    "# Read Dataset\n",
    "import numpy as np\n",
    "import pickle\n",
    "\n",
    "img_codes = np.load(\"data/image_codes.npy\")\n",
    "captions = pickle.load(open('data/caption_tokens.pcl', 'rb'))"
   ]
  },
  {
   "cell_type": "code",
   "execution_count": 3,
   "metadata": {},
   "outputs": [
    {
     "name": "stdout",
     "output_type": "stream",
     "text": [
      "each image code is a 1000-unit vector: (123287, 1000)\n",
      "[ 1.38901556 -3.82951474 -1.94360816 -0.5317238  -0.03120959 -2.87483215\n",
      " -2.9554503   0.6960277  -0.68551242 -0.7855981 ]\n",
      "\n",
      "\n",
      "\n",
      "for each image there are 5-7 descriptions, e.g.:\n",
      "\n",
      "a man with a red helmet on a small moped on a dirt road\n",
      "man riding a motor bike on a dirt road on the countryside\n",
      "a man riding on the back of a motorcycle\n",
      "a dirt path with a young person on a motor bike rests to the foreground of a verdant area with a bridge and a background of cloud wreathed mountains\n",
      "a man in a red shirt and a red hat is on a motorcycle on a hill side\n"
     ]
    }
   ],
   "source": [
    "print \"each image code is a 1000-unit vector:\", img_codes.shape\n",
    "print img_codes[0,:10]\n",
    "print '\\n\\n'\n",
    "print \"for each image there are 5-7 descriptions, e.g.:\\n\"\n",
    "print '\\n'.join(captions[0])"
   ]
  },
  {
   "cell_type": "code",
   "execution_count": 4,
   "metadata": {
    "collapsed": true
   },
   "outputs": [],
   "source": [
    "from tqdm import tqdm"
   ]
  },
  {
   "cell_type": "code",
   "execution_count": 5,
   "metadata": {
    "collapsed": true
   },
   "outputs": [],
   "source": [
    "#split descriptions into tokens\n",
    "for img_i in range(len(captions)):\n",
    "    for caption_i in range(len(captions[img_i])):\n",
    "        sentence = captions[img_i][caption_i] \n",
    "        captions[img_i][caption_i] = [\"#START#\"]+sentence.split(' ')+[\"#END#\"]"
   ]
  },
  {
   "cell_type": "code",
   "execution_count": 7,
   "metadata": {
    "collapsed": true
   },
   "outputs": [],
   "source": [
    "from collections import defaultdict"
   ]
  },
  {
   "cell_type": "code",
   "execution_count": 8,
   "metadata": {},
   "outputs": [
    {
     "name": "stderr",
     "output_type": "stream",
     "text": [
      "100%|██████████| 123287/123287 [00:01<00:00, 61853.62it/s]\n"
     ]
    }
   ],
   "source": [
    "# Build a Vocabulary\n",
    "\n",
    "############# TO CODE IT BY YOURSELF ##################\n",
    "word_counts = defaultdict(int)\n",
    "for cap in tqdm(captions):\n",
    "    for ez_caption in cap:\n",
    "        for word in ez_caption:\n",
    "            word_counts[word] += 1\n",
    "\n",
    "vocab  = ['#UNK#', '#START#', '#END#']\n",
    "vocab += [k for k, v in word_counts.items() if v >= 5]\n",
    "n_tokens = len(vocab)\n",
    "\n",
    "assert 10000 <= n_tokens <= 10500\n",
    "\n",
    "word_to_index = {w: i for i, w in enumerate(vocab)}"
   ]
  },
  {
   "cell_type": "code",
   "execution_count": 9,
   "metadata": {
    "collapsed": true
   },
   "outputs": [],
   "source": [
    "PAD_ix = -1\n",
    "UNK_ix = vocab.index('#UNK#')\n",
    "\n",
    "def as_matrix(sequences,max_len=None):\n",
    "    max_len = max_len or max(map(len,sequences))\n",
    "    \n",
    "    matrix = np.zeros((len(sequences),max_len),dtype='int32')+PAD_ix\n",
    "    for i,seq in enumerate(sequences):\n",
    "        row_ix = [word_to_index.get(word,UNK_ix) for word in seq[:max_len]]\n",
    "        matrix[i,:len(row_ix)] = row_ix\n",
    "    \n",
    "    return matrix"
   ]
  },
  {
   "cell_type": "code",
   "execution_count": 10,
   "metadata": {},
   "outputs": [
    {
     "data": {
      "text/plain": [
       "array([[ 8481,  2852,  7829,  4136, 10058,  9934,  5915,  4859,  6766,\n",
       "         1243,  3980,  6254,  8134,    -1,    -1],\n",
       "       [ 8481,  6766,  1243,  8902,  1021,  9095,  6254,  3980,  8256,\n",
       "          727,  5915,  8134,    -1,    -1,    -1],\n",
       "       [ 8481,  8717,  4136, 10058,  9934,  5915,  4859,  6766,  5627,\n",
       "         8639,   535,  5470,  7115,  5155,  8134],\n",
       "       [ 8481,  8717,  8897,  3069,  2538,   781,  8717,  8897,  1558,\n",
       "         8134,    -1,    -1,    -1,    -1,    -1],\n",
       "       [ 8481,  2852,  7829,  4136, 10058,  9934,  5915,  4859,  6766,\n",
       "         1243,   535,  5470,  8919,  8134,    -1]], dtype=int32)"
      ]
     },
     "execution_count": 10,
     "metadata": {},
     "output_type": "execute_result"
    }
   ],
   "source": [
    "#try it out on several descriptions of a random image\n",
    "as_matrix(captions[1337])"
   ]
  },
  {
   "cell_type": "markdown",
   "metadata": {},
   "source": [
    "### Mah Neural Network"
   ]
  },
  {
   "cell_type": "code",
   "execution_count": 11,
   "metadata": {
    "collapsed": true
   },
   "outputs": [],
   "source": [
    "# network shapes. \n",
    "CNN_FEATURE_SIZE = img_codes.shape[1]\n",
    "EMBED_SIZE = 128 #pls change me if u want\n",
    "LSTM_UNITS = 200 #pls change me if u want"
   ]
  },
  {
   "cell_type": "code",
   "execution_count": 12,
   "metadata": {},
   "outputs": [
    {
     "name": "stderr",
     "output_type": "stream",
     "text": [
      "Using cuDNN version 5110 on context None\n",
      "Mapped name None to device cuda: GeForce GTX 1080 (0000:08:00.0)\n"
     ]
    }
   ],
   "source": [
    "import theano\n",
    "import lasagne\n",
    "import theano.tensor as T\n",
    "from lasagne.layers import *"
   ]
  },
  {
   "cell_type": "code",
   "execution_count": 13,
   "metadata": {
    "collapsed": true
   },
   "outputs": [],
   "source": [
    "# Input Variable\n",
    "sentences = T.imatrix()# [batch_size x time] of word ids\n",
    "image_vectors = T.matrix() # [batch size x unit] of CNN image features\n",
    "sentence_mask = T.neq(sentences, PAD_ix)"
   ]
  },
  {
   "cell_type": "code",
   "execution_count": 14,
   "metadata": {
    "collapsed": true
   },
   "outputs": [],
   "source": [
    "#network inputs\n",
    "l_words = InputLayer((None, None), sentences)\n",
    "l_mask = InputLayer((None, None), sentence_mask)\n",
    "\n",
    "#embeddings for words \n",
    "############# TO CODE IT BY YOURSELF ##################\n",
    "l_word_embeddings = EmbeddingLayer(l_words, n_tokens, EMBED_SIZE)"
   ]
  },
  {
   "cell_type": "code",
   "execution_count": 15,
   "metadata": {
    "collapsed": true
   },
   "outputs": [],
   "source": [
    "# input layer for image features\n",
    "l_image_features = InputLayer((None, CNN_FEATURE_SIZE), image_vectors)\n",
    "\n",
    "############# TO CODE IT BY YOURSELF ##################\n",
    "#convert 1000 image features from googlenet to whatever LSTM_UNITS you have set\n",
    "#it's also a good idea to add some dropout here and there\n",
    "l_image_features_small = DropoutLayer(l_image_features)\n",
    "l_image_features_small = DenseLayer(l_image_features_small, num_units=LSTM_UNITS)\n",
    "assert l_image_features_small.output_shape == (None, LSTM_UNITS)"
   ]
  },
  {
   "cell_type": "code",
   "execution_count": 16,
   "metadata": {
    "collapsed": true
   },
   "outputs": [],
   "source": [
    "############# TO CODE IT BY YOURSELF ##################\n",
    "# Concatinate image features and word embedings in one sequence \n",
    "decoder = LSTMLayer(l_word_embeddings,\n",
    "                    num_units=LSTM_UNITS,\n",
    "                    cell_init=l_image_features_small,\n",
    "                    mask_input=l_mask,\n",
    "                    grad_clipping=10.)"
   ]
  },
  {
   "cell_type": "code",
   "execution_count": 17,
   "metadata": {},
   "outputs": [
    {
     "name": "stdout",
     "output_type": "stream",
     "text": [
      "broadcasted decoder shape =  (None, 200)\n",
      "output shape =  (None, None, 10373)\n"
     ]
    }
   ],
   "source": [
    "# Decoding of rnn hiden states\n",
    "from broadcast import BroadcastLayer,UnbroadcastLayer\n",
    "\n",
    "#apply whatever comes next to each tick of each example in a batch. Equivalent to 2 reshapes\n",
    "broadcast_decoder_ticks = BroadcastLayer(decoder, (0, 1))\n",
    "print \"broadcasted decoder shape = \",broadcast_decoder_ticks.output_shape\n",
    "\n",
    "predicted_probabilities_each_tick = DenseLayer(\n",
    "    broadcast_decoder_ticks,n_tokens, nonlinearity=lasagne.nonlinearities.softmax)\n",
    "\n",
    "#un-broadcast back into (batch,tick,probabilities)\n",
    "predicted_probabilities = UnbroadcastLayer(\n",
    "    predicted_probabilities_each_tick, broadcast_layer=broadcast_decoder_ticks)\n",
    "\n",
    "print \"output shape = \", predicted_probabilities.output_shape\n",
    "\n",
    "#remove if you know what you're doing (e.g. 1d convolutions or fixed shape)\n",
    "assert predicted_probabilities.output_shape == (None, None, 10373)"
   ]
  },
  {
   "cell_type": "code",
   "execution_count": 18,
   "metadata": {
    "collapsed": true
   },
   "outputs": [],
   "source": [
    "next_word_probas = get_output(predicted_probabilities)\n",
    "\n",
    "reference_answers = sentences[:,1:]\n",
    "output_mask = sentence_mask[:,1:]\n",
    "\n",
    "#write symbolic loss function to train NN for\n",
    "loss = lasagne.objectives.categorical_crossentropy(\n",
    "    next_word_probas[:, :-1].reshape((-1, n_tokens)),\n",
    "    reference_answers.reshape((-1,))\n",
    ").reshape(reference_answers.shape)\n",
    "\n",
    "############# TO CODE IT BY YOURSELF ##################\n",
    "loss *= output_mask\n",
    "loss = loss.mean()"
   ]
  },
  {
   "cell_type": "code",
   "execution_count": 19,
   "metadata": {
    "collapsed": true
   },
   "outputs": [],
   "source": [
    "#trainable NN weights\n",
    "############# TO CODE IT BY YOURSELF ##################\n",
    "weights = lasagne.layers.get_all_params(predicted_probabilities)\n",
    "updates = lasagne.updates.adam(loss, weights)"
   ]
  },
  {
   "cell_type": "code",
   "execution_count": 20,
   "metadata": {
    "collapsed": true
   },
   "outputs": [],
   "source": [
    "#compile a function that takes input sentence and image mask, outputs loss and updates weights\n",
    "#please not that your functions must accept image features as FIRST param and sentences as second one\n",
    "############# TO CODE IT BY YOURSELF ##################\n",
    "train_step = theano.function([image_vectors, sentences], loss, updates=updates, allow_input_downcast=True)\n",
    "val_step   = theano.function([image_vectors, sentences], loss, allow_input_downcast=True)"
   ]
  },
  {
   "cell_type": "markdown",
   "metadata": {},
   "source": [
    "# Training\n",
    "\n",
    "* You first have to implement a batch generator\n",
    "* Than the network will get trained the usual way"
   ]
  },
  {
   "cell_type": "code",
   "execution_count": 21,
   "metadata": {
    "collapsed": true
   },
   "outputs": [],
   "source": [
    "captions = np.array(captions)"
   ]
  },
  {
   "cell_type": "code",
   "execution_count": 22,
   "metadata": {
    "collapsed": true
   },
   "outputs": [],
   "source": [
    "from random import choice\n",
    "\n",
    "def generate_batch(images,captions,batch_size,max_caption_len=None):\n",
    "    #sample random numbers for image/caption indicies\n",
    "    random_image_ix = np.random.randint(0, len(images), size=batch_size)\n",
    "    \n",
    "    #get images\n",
    "    batch_images = images[random_image_ix]\n",
    "    \n",
    "    #5-7 captions for each image\n",
    "    captions_for_batch_images = captions[random_image_ix]\n",
    "    \n",
    "    #pick 1 from 5-7 captions for each image\n",
    "    batch_captions = map(choice, captions_for_batch_images)\n",
    "    \n",
    "    #convert to matrix\n",
    "    batch_captions_ix = as_matrix(batch_captions,max_len=max_caption_len)\n",
    "    \n",
    "    return batch_images, batch_captions_ix"
   ]
  },
  {
   "cell_type": "code",
   "execution_count": 24,
   "metadata": {},
   "outputs": [
    {
     "data": {
      "text/plain": [
       "(array([[-8.94778919, -5.95093107, -4.90597391, ..., -3.42507958,\n",
       "          0.75636148,  0.41876701],\n",
       "        [-3.09088802, -1.34739625, -2.75918865, ..., -1.79617715,\n",
       "          1.00650704,  3.53558969],\n",
       "        [ 4.35922337,  1.90420449,  1.3474977 , ...,  2.57510138,\n",
       "          2.79298019,  7.31937027]], dtype=float32),\n",
       " array([[8481, 8717, 3059, 3974, 8597, 5432, 3323,  351, 2156, 8134,   -1,\n",
       "           -1,   -1,   -1],\n",
       "        [8481, 8717, 9834, 8942, 1558,  781, 7130, 4859, 8717, 4379, 2557,\n",
       "          326, 8627, 8134],\n",
       "        [8481, 8897, 1558, 3980, 5395,  181, 8528, 8597, 7398, 8134,   -1,\n",
       "           -1,   -1,   -1]], dtype=int32))"
      ]
     },
     "execution_count": 24,
     "metadata": {},
     "output_type": "execute_result"
    }
   ],
   "source": [
    "generate_batch(img_codes,captions, 3)"
   ]
  },
  {
   "cell_type": "markdown",
   "metadata": {},
   "source": [
    "### Main loop\n",
    "* We recommend you to periodically evaluate the network using the next \"apply trained model\" block\n",
    " *  its safe to interrupt training, run a few examples and start training again"
   ]
  },
  {
   "cell_type": "code",
   "execution_count": 32,
   "metadata": {
    "collapsed": true
   },
   "outputs": [],
   "source": [
    "batch_size = 70 #adjust me\n",
    "n_epochs   = 80 #adjust me\n",
    "n_batches_per_epoch = 50 #adjust me\n",
    "n_validation_batches = 5 #how many batches are used for validation after each epoch"
   ]
  },
  {
   "cell_type": "code",
   "execution_count": 33,
   "metadata": {
    "scrolled": false
   },
   "outputs": [
    {
     "name": "stderr",
     "output_type": "stream",
     "text": [
      "100%|██████████| 50/50 [00:04<00:00, 12.03it/s]\n",
      "100%|██████████| 50/50 [00:04<00:00, 11.99it/s]"
     ]
    },
    {
     "name": "stdout",
     "output_type": "stream",
     "text": [
      "\n",
      "Epoch: 0, train loss: 2.60458236694, val loss: 2.62271847725\n",
      "\n",
      "Epoch: 1, train loss: 2.54328974009, val loss: 2.0014714241"
     ]
    },
    {
     "name": "stderr",
     "output_type": "stream",
     "text": [
      "\n",
      "100%|██████████| 50/50 [00:04<00:00, 12.31it/s]"
     ]
    },
    {
     "name": "stdout",
     "output_type": "stream",
     "text": [
      "\n",
      "\n",
      "Epoch: 2, train loss: 2.49695088625, val loss: 2.69688620567"
     ]
    },
    {
     "name": "stderr",
     "output_type": "stream",
     "text": [
      "\n",
      "100%|██████████| 50/50 [00:04<00:00, 11.36it/s]"
     ]
    },
    {
     "name": "stdout",
     "output_type": "stream",
     "text": [
      "\n",
      "\n",
      "Epoch: 3, train loss: 2.36417987823, val loss: 2.61833815575"
     ]
    },
    {
     "name": "stderr",
     "output_type": "stream",
     "text": [
      "\n",
      "100%|██████████| 50/50 [00:04<00:00, 11.51it/s]"
     ]
    },
    {
     "name": "stdout",
     "output_type": "stream",
     "text": [
      "\n",
      "\n",
      "Epoch: 4, train loss: 2.31541512251, val loss: 2.64623246193"
     ]
    },
    {
     "name": "stderr",
     "output_type": "stream",
     "text": [
      "\n",
      "100%|██████████| 50/50 [00:04<00:00, 12.09it/s]"
     ]
    },
    {
     "name": "stdout",
     "output_type": "stream",
     "text": [
      "\n",
      "\n",
      "Epoch: 5, train loss: 2.3260311842, val loss: 2.34501576424"
     ]
    },
    {
     "name": "stderr",
     "output_type": "stream",
     "text": [
      "\n",
      "100%|██████████| 50/50 [00:03<00:00, 13.04it/s]"
     ]
    },
    {
     "name": "stdout",
     "output_type": "stream",
     "text": [
      "\n",
      "\n",
      "Epoch: 6, train loss: 2.40458809376, val loss: 2.35930113792"
     ]
    },
    {
     "name": "stderr",
     "output_type": "stream",
     "text": [
      "\n",
      "100%|██████████| 50/50 [00:04<00:00, 11.98it/s]"
     ]
    },
    {
     "name": "stdout",
     "output_type": "stream",
     "text": [
      "\n",
      "\n",
      "Epoch: 7, train loss: 2.32402253866, val loss: 2.3212603569"
     ]
    },
    {
     "name": "stderr",
     "output_type": "stream",
     "text": [
      "\n",
      "100%|██████████| 50/50 [00:04<00:00, 12.09it/s]"
     ]
    },
    {
     "name": "stdout",
     "output_type": "stream",
     "text": [
      "\n",
      "\n",
      "Epoch: 8, train loss: 2.25555567741, val loss: 2.12928202152"
     ]
    },
    {
     "name": "stderr",
     "output_type": "stream",
     "text": [
      "\n",
      "100%|██████████| 50/50 [00:04<00:00, 12.32it/s]"
     ]
    },
    {
     "name": "stdout",
     "output_type": "stream",
     "text": [
      "\n",
      "\n",
      "Epoch: 9, train loss: 2.26824162483, val loss: 2.16729133129"
     ]
    },
    {
     "name": "stderr",
     "output_type": "stream",
     "text": [
      "\n",
      "100%|██████████| 50/50 [00:04<00:00, 12.14it/s]"
     ]
    },
    {
     "name": "stdout",
     "output_type": "stream",
     "text": [
      "\n",
      "\n",
      "Epoch: 10, train loss: 2.25403017282, val loss: 2.05622107983"
     ]
    },
    {
     "name": "stderr",
     "output_type": "stream",
     "text": [
      "\n",
      "100%|██████████| 50/50 [00:03<00:00, 12.71it/s]"
     ]
    },
    {
     "name": "stdout",
     "output_type": "stream",
     "text": [
      "\n",
      "\n",
      "Epoch: 11, train loss: 2.25896193266, val loss: 2.26267778873"
     ]
    },
    {
     "name": "stderr",
     "output_type": "stream",
     "text": [
      "\n",
      "100%|██████████| 50/50 [00:04<00:00, 12.15it/s]"
     ]
    },
    {
     "name": "stdout",
     "output_type": "stream",
     "text": [
      "\n",
      "\n",
      "Epoch: 12, train loss: 2.19657681465, val loss: 2.23536453247"
     ]
    },
    {
     "name": "stderr",
     "output_type": "stream",
     "text": [
      "\n",
      "100%|██████████| 50/50 [00:04<00:00, 11.81it/s]"
     ]
    },
    {
     "name": "stdout",
     "output_type": "stream",
     "text": [
      "\n",
      "\n",
      "Epoch: 13, train loss: 2.13316454649, val loss: 2.22768518925"
     ]
    },
    {
     "name": "stderr",
     "output_type": "stream",
     "text": [
      "\n",
      "100%|██████████| 50/50 [00:04<00:00, 11.89it/s]"
     ]
    },
    {
     "name": "stdout",
     "output_type": "stream",
     "text": [
      "\n",
      "\n",
      "Epoch: 14, train loss: 2.11811198473, val loss: 2.08400874138"
     ]
    },
    {
     "name": "stderr",
     "output_type": "stream",
     "text": [
      "\n",
      "100%|██████████| 50/50 [00:04<00:00, 11.36it/s]"
     ]
    },
    {
     "name": "stdout",
     "output_type": "stream",
     "text": [
      "\n",
      "\n",
      "Epoch: 15, train loss: 2.11169699192, val loss: 2.27464175224"
     ]
    },
    {
     "name": "stderr",
     "output_type": "stream",
     "text": [
      "\n",
      "100%|██████████| 50/50 [00:04<00:00, 12.72it/s]"
     ]
    },
    {
     "name": "stdout",
     "output_type": "stream",
     "text": [
      "\n",
      "\n",
      "Epoch: 16, train loss: 2.13177275419, val loss: 2.13782045841"
     ]
    },
    {
     "name": "stderr",
     "output_type": "stream",
     "text": [
      "\n",
      "100%|██████████| 50/50 [00:04<00:00, 12.51it/s]"
     ]
    },
    {
     "name": "stdout",
     "output_type": "stream",
     "text": [
      "\n",
      "\n",
      "Epoch: 17, train loss: 2.02393236637, val loss: 2.07205824852"
     ]
    },
    {
     "name": "stderr",
     "output_type": "stream",
     "text": [
      "\n",
      "100%|██████████| 50/50 [00:04<00:00, 10.25it/s]"
     ]
    },
    {
     "name": "stdout",
     "output_type": "stream",
     "text": [
      "\n",
      "\n",
      "Epoch: 18, train loss: 2.02670998335, val loss: 1.99437022209"
     ]
    },
    {
     "name": "stderr",
     "output_type": "stream",
     "text": [
      "\n",
      "100%|██████████| 50/50 [00:04<00:00, 12.41it/s]"
     ]
    },
    {
     "name": "stdout",
     "output_type": "stream",
     "text": [
      "\n",
      "\n",
      "Epoch: 19, train loss: 2.06755749702, val loss: 2.33185777664"
     ]
    },
    {
     "name": "stderr",
     "output_type": "stream",
     "text": [
      "\n",
      "100%|██████████| 50/50 [00:03<00:00, 12.42it/s]"
     ]
    },
    {
     "name": "stdout",
     "output_type": "stream",
     "text": [
      "\n",
      "\n",
      "Epoch: 20, train loss: 2.07370513916, val loss: 1.97659037113"
     ]
    },
    {
     "name": "stderr",
     "output_type": "stream",
     "text": [
      "\n",
      "100%|██████████| 50/50 [00:04<00:00, 12.02it/s]"
     ]
    },
    {
     "name": "stdout",
     "output_type": "stream",
     "text": [
      "\n",
      "\n",
      "Epoch: 21, train loss: 1.99972712159, val loss: 2.01341602802"
     ]
    },
    {
     "name": "stderr",
     "output_type": "stream",
     "text": [
      "\n",
      "100%|██████████| 50/50 [00:04<00:00, 12.12it/s]"
     ]
    },
    {
     "name": "stdout",
     "output_type": "stream",
     "text": [
      "\n",
      "\n",
      "Epoch: 22, train loss: 1.89864758015, val loss: 1.88558994532"
     ]
    },
    {
     "name": "stderr",
     "output_type": "stream",
     "text": [
      "\n",
      "100%|██████████| 50/50 [00:04<00:00, 11.42it/s]"
     ]
    },
    {
     "name": "stdout",
     "output_type": "stream",
     "text": [
      "\n",
      "\n",
      "Epoch: 23, train loss: 1.93112751365, val loss: 1.9569652319"
     ]
    },
    {
     "name": "stderr",
     "output_type": "stream",
     "text": [
      "\n",
      "100%|██████████| 50/50 [00:04<00:00, 12.11it/s]"
     ]
    },
    {
     "name": "stdout",
     "output_type": "stream",
     "text": [
      "\n",
      "\n",
      "Epoch: 24, train loss: 1.985518713, val loss: 2.04319550991"
     ]
    },
    {
     "name": "stderr",
     "output_type": "stream",
     "text": [
      "\n",
      "100%|██████████| 50/50 [00:04<00:00, 11.02it/s]"
     ]
    },
    {
     "name": "stdout",
     "output_type": "stream",
     "text": [
      "\n",
      "\n",
      "Epoch: 25, train loss: 1.93553638697, val loss: 2.03641159534"
     ]
    },
    {
     "name": "stderr",
     "output_type": "stream",
     "text": [
      "\n",
      "100%|██████████| 50/50 [00:04<00:00, 12.77it/s]"
     ]
    },
    {
     "name": "stdout",
     "output_type": "stream",
     "text": [
      "\n",
      "\n",
      "Epoch: 26, train loss: 1.97191039801, val loss: 2.0859644413"
     ]
    },
    {
     "name": "stderr",
     "output_type": "stream",
     "text": [
      "\n",
      "100%|██████████| 50/50 [00:04<00:00, 12.76it/s]"
     ]
    },
    {
     "name": "stdout",
     "output_type": "stream",
     "text": [
      "\n",
      "\n",
      "Epoch: 27, train loss: 1.95960125208, val loss: 1.75380330086"
     ]
    },
    {
     "name": "stderr",
     "output_type": "stream",
     "text": [
      "\n",
      "100%|██████████| 50/50 [00:04<00:00, 12.05it/s]"
     ]
    },
    {
     "name": "stdout",
     "output_type": "stream",
     "text": [
      "\n",
      "\n",
      "Epoch: 28, train loss: 1.90234457493, val loss: 1.75700576305"
     ]
    },
    {
     "name": "stderr",
     "output_type": "stream",
     "text": [
      "\n",
      "100%|██████████| 50/50 [00:04<00:00, 12.18it/s]"
     ]
    },
    {
     "name": "stdout",
     "output_type": "stream",
     "text": [
      "\n",
      "\n",
      "Epoch: 29, train loss: 1.87214754343, val loss: 1.86841313839"
     ]
    },
    {
     "name": "stderr",
     "output_type": "stream",
     "text": [
      "\n",
      "100%|██████████| 50/50 [00:04<00:00, 12.11it/s]"
     ]
    },
    {
     "name": "stdout",
     "output_type": "stream",
     "text": [
      "\n",
      "\n",
      "Epoch: 30, train loss: 1.92014393568, val loss: 1.96516225338"
     ]
    },
    {
     "name": "stderr",
     "output_type": "stream",
     "text": [
      "\n",
      "100%|██████████| 50/50 [00:04<00:00, 11.71it/s]"
     ]
    },
    {
     "name": "stdout",
     "output_type": "stream",
     "text": [
      "\n",
      "\n",
      "Epoch: 31, train loss: 1.88521887541, val loss: 2.00813031197"
     ]
    },
    {
     "name": "stderr",
     "output_type": "stream",
     "text": [
      "\n",
      "100%|██████████| 50/50 [00:04<00:00, 11.66it/s]"
     ]
    },
    {
     "name": "stdout",
     "output_type": "stream",
     "text": [
      "\n",
      "\n",
      "Epoch: 32, train loss: 1.84334485292, val loss: 1.90963022709"
     ]
    },
    {
     "name": "stderr",
     "output_type": "stream",
     "text": [
      "\n",
      "100%|██████████| 50/50 [00:04<00:00, 12.48it/s]"
     ]
    },
    {
     "name": "stdout",
     "output_type": "stream",
     "text": [
      "\n",
      "\n",
      "Epoch: 33, train loss: 1.88656224728, val loss: 1.88840396404"
     ]
    },
    {
     "name": "stderr",
     "output_type": "stream",
     "text": [
      "\n",
      "100%|██████████| 50/50 [00:04<00:00, 12.52it/s]"
     ]
    },
    {
     "name": "stdout",
     "output_type": "stream",
     "text": [
      "\n",
      "\n",
      "Epoch: 34, train loss: 1.82742181063, val loss: 1.81925947666"
     ]
    },
    {
     "name": "stderr",
     "output_type": "stream",
     "text": [
      "\n",
      "100%|██████████| 50/50 [00:03<00:00, 13.38it/s]"
     ]
    },
    {
     "name": "stdout",
     "output_type": "stream",
     "text": [
      "\n",
      "\n",
      "Epoch: 35, train loss: 1.91544114113, val loss: 1.79097290039"
     ]
    },
    {
     "name": "stderr",
     "output_type": "stream",
     "text": [
      "\n",
      "100%|██████████| 50/50 [00:04<00:00, 11.25it/s]"
     ]
    },
    {
     "name": "stdout",
     "output_type": "stream",
     "text": [
      "\n",
      "\n",
      "Epoch: 36, train loss: 1.73882454276, val loss: 1.5824354887"
     ]
    },
    {
     "name": "stderr",
     "output_type": "stream",
     "text": [
      "\n",
      "100%|██████████| 50/50 [00:04<00:00, 11.68it/s]"
     ]
    },
    {
     "name": "stdout",
     "output_type": "stream",
     "text": [
      "\n",
      "\n",
      "Epoch: 37, train loss: 1.77371277094, val loss: 1.58403809071"
     ]
    },
    {
     "name": "stderr",
     "output_type": "stream",
     "text": [
      "\n",
      "100%|██████████| 50/50 [00:04<00:00, 11.21it/s]"
     ]
    },
    {
     "name": "stdout",
     "output_type": "stream",
     "text": [
      "\n",
      "\n",
      "Epoch: 38, train loss: 1.81472512841, val loss: 1.75118019581"
     ]
    },
    {
     "name": "stderr",
     "output_type": "stream",
     "text": [
      "\n",
      "100%|██████████| 50/50 [00:04<00:00, 11.61it/s]"
     ]
    },
    {
     "name": "stdout",
     "output_type": "stream",
     "text": [
      "\n",
      "\n",
      "Epoch: 39, train loss: 1.82714855552, val loss: 1.91013531685"
     ]
    },
    {
     "name": "stderr",
     "output_type": "stream",
     "text": [
      "\n",
      "100%|██████████| 50/50 [00:04<00:00, 10.29it/s]"
     ]
    },
    {
     "name": "stdout",
     "output_type": "stream",
     "text": [
      "\n",
      "\n",
      "Epoch: 40, train loss: 1.78895688534, val loss: 1.72806169987"
     ]
    },
    {
     "name": "stderr",
     "output_type": "stream",
     "text": [
      "\n",
      "100%|██████████| 50/50 [00:04<00:00, 12.09it/s]"
     ]
    },
    {
     "name": "stdout",
     "output_type": "stream",
     "text": [
      "\n",
      "\n",
      "Epoch: 41, train loss: 1.84468864679, val loss: 1.68307478428"
     ]
    },
    {
     "name": "stderr",
     "output_type": "stream",
     "text": [
      "\n",
      "100%|██████████| 50/50 [00:04<00:00, 11.78it/s]"
     ]
    },
    {
     "name": "stdout",
     "output_type": "stream",
     "text": [
      "\n",
      "\n",
      "Epoch: 42, train loss: 1.80587530136, val loss: 1.83948979378"
     ]
    },
    {
     "name": "stderr",
     "output_type": "stream",
     "text": [
      "\n",
      "100%|██████████| 50/50 [00:04<00:00, 10.98it/s]"
     ]
    },
    {
     "name": "stdout",
     "output_type": "stream",
     "text": [
      "\n",
      "\n",
      "Epoch: 43, train loss: 1.74861534357, val loss: 1.73098483086"
     ]
    },
    {
     "name": "stderr",
     "output_type": "stream",
     "text": [
      "\n",
      "100%|██████████| 50/50 [00:04<00:00, 11.53it/s]"
     ]
    },
    {
     "name": "stdout",
     "output_type": "stream",
     "text": [
      "\n",
      "\n",
      "Epoch: 44, train loss: 1.82170809269, val loss: 1.69618690014"
     ]
    },
    {
     "name": "stderr",
     "output_type": "stream",
     "text": [
      "\n",
      "100%|██████████| 50/50 [00:04<00:00, 12.25it/s]"
     ]
    },
    {
     "name": "stdout",
     "output_type": "stream",
     "text": [
      "\n",
      "\n",
      "Epoch: 45, train loss: 1.68174470663, val loss: 1.63071408272"
     ]
    },
    {
     "name": "stderr",
     "output_type": "stream",
     "text": [
      "\n",
      "100%|██████████| 50/50 [00:04<00:00, 12.10it/s]"
     ]
    },
    {
     "name": "stdout",
     "output_type": "stream",
     "text": [
      "\n",
      "\n",
      "Epoch: 46, train loss: 1.74679054976, val loss: 1.82448465824"
     ]
    },
    {
     "name": "stderr",
     "output_type": "stream",
     "text": [
      "\n",
      "100%|██████████| 50/50 [00:03<00:00, 12.80it/s]"
     ]
    },
    {
     "name": "stdout",
     "output_type": "stream",
     "text": [
      "\n",
      "\n",
      "Epoch: 47, train loss: 1.80012665033, val loss: 1.59269144535"
     ]
    },
    {
     "name": "stderr",
     "output_type": "stream",
     "text": [
      "\n",
      "100%|██████████| 50/50 [00:04<00:00, 10.85it/s]"
     ]
    },
    {
     "name": "stdout",
     "output_type": "stream",
     "text": [
      "\n",
      "\n",
      "Epoch: 48, train loss: 1.67913111925, val loss: 1.75771884918"
     ]
    },
    {
     "name": "stderr",
     "output_type": "stream",
     "text": [
      "\n",
      "100%|██████████| 50/50 [00:04<00:00, 11.74it/s]"
     ]
    },
    {
     "name": "stdout",
     "output_type": "stream",
     "text": [
      "\n",
      "\n",
      "Epoch: 49, train loss: 1.71149025202, val loss: 1.49529221058"
     ]
    },
    {
     "name": "stderr",
     "output_type": "stream",
     "text": [
      "\n",
      "100%|██████████| 50/50 [00:04<00:00, 12.37it/s]"
     ]
    },
    {
     "name": "stdout",
     "output_type": "stream",
     "text": [
      "\n",
      "\n",
      "Epoch: 50, train loss: 1.76691803217, val loss: 1.68288910389"
     ]
    },
    {
     "name": "stderr",
     "output_type": "stream",
     "text": [
      "\n",
      "100%|██████████| 50/50 [00:04<00:00, 11.53it/s]"
     ]
    },
    {
     "name": "stdout",
     "output_type": "stream",
     "text": [
      "\n",
      "\n",
      "Epoch: 51, train loss: 1.67715878248, val loss: 1.45291824341"
     ]
    },
    {
     "name": "stderr",
     "output_type": "stream",
     "text": [
      "\n",
      "100%|██████████| 50/50 [00:04<00:00, 11.58it/s]"
     ]
    },
    {
     "name": "stdout",
     "output_type": "stream",
     "text": [
      "\n",
      "\n",
      "Epoch: 52, train loss: 1.68972391844, val loss: 1.91206257343"
     ]
    },
    {
     "name": "stderr",
     "output_type": "stream",
     "text": [
      "\n",
      "100%|██████████| 50/50 [00:04<00:00, 11.56it/s]"
     ]
    },
    {
     "name": "stdout",
     "output_type": "stream",
     "text": [
      "\n",
      "\n",
      "Epoch: 53, train loss: 1.70216043115, val loss: 1.73885116577"
     ]
    },
    {
     "name": "stderr",
     "output_type": "stream",
     "text": [
      "\n",
      "100%|██████████| 50/50 [00:04<00:00, 13.48it/s]"
     ]
    },
    {
     "name": "stdout",
     "output_type": "stream",
     "text": [
      "\n",
      "\n",
      "Epoch: 54, train loss: 1.74664392352, val loss: 1.62304289341"
     ]
    },
    {
     "name": "stderr",
     "output_type": "stream",
     "text": [
      "\n",
      "100%|██████████| 50/50 [00:03<00:00, 12.68it/s]"
     ]
    },
    {
     "name": "stdout",
     "output_type": "stream",
     "text": [
      "\n",
      "\n",
      "Epoch: 55, train loss: 1.76638579845, val loss: 1.69359767437"
     ]
    },
    {
     "name": "stderr",
     "output_type": "stream",
     "text": [
      "\n",
      "100%|██████████| 50/50 [00:04<00:00, 12.24it/s]"
     ]
    },
    {
     "name": "stdout",
     "output_type": "stream",
     "text": [
      "\n",
      "\n",
      "Epoch: 56, train loss: 1.71919290066, val loss: 1.80516343117"
     ]
    },
    {
     "name": "stderr",
     "output_type": "stream",
     "text": [
      "\n",
      "100%|██████████| 50/50 [00:04<00:00, 12.52it/s]"
     ]
    },
    {
     "name": "stdout",
     "output_type": "stream",
     "text": [
      "\n",
      "\n",
      "Epoch: 57, train loss: 1.72673540831, val loss: 1.76067862511"
     ]
    },
    {
     "name": "stderr",
     "output_type": "stream",
     "text": [
      "\n",
      "100%|██████████| 50/50 [00:04<00:00, 12.17it/s]"
     ]
    },
    {
     "name": "stdout",
     "output_type": "stream",
     "text": [
      "\n",
      "\n",
      "Epoch: 58, train loss: 1.74649867892, val loss: 1.75109138489"
     ]
    },
    {
     "name": "stderr",
     "output_type": "stream",
     "text": [
      "\n",
      "100%|██████████| 50/50 [00:04<00:00, 11.90it/s]"
     ]
    },
    {
     "name": "stdout",
     "output_type": "stream",
     "text": [
      "\n",
      "\n",
      "Epoch: 59, train loss: 1.68292678595, val loss: 1.71925237179"
     ]
    },
    {
     "name": "stderr",
     "output_type": "stream",
     "text": [
      "\n",
      "100%|██████████| 50/50 [00:04<00:00, 11.50it/s]"
     ]
    },
    {
     "name": "stdout",
     "output_type": "stream",
     "text": [
      "\n",
      "\n",
      "Epoch: 60, train loss: 1.63362527132, val loss: 1.68579704762"
     ]
    },
    {
     "name": "stderr",
     "output_type": "stream",
     "text": [
      "\n",
      "100%|██████████| 50/50 [00:04<00:00, 11.81it/s]"
     ]
    },
    {
     "name": "stdout",
     "output_type": "stream",
     "text": [
      "\n",
      "\n",
      "Epoch: 61, train loss: 1.66730989575, val loss: 1.63031135798"
     ]
    },
    {
     "name": "stderr",
     "output_type": "stream",
     "text": [
      "\n",
      "100%|██████████| 50/50 [00:04<00:00, 11.66it/s]"
     ]
    },
    {
     "name": "stdout",
     "output_type": "stream",
     "text": [
      "\n",
      "\n",
      "Epoch: 62, train loss: 1.66572007895, val loss: 1.68997683525"
     ]
    },
    {
     "name": "stderr",
     "output_type": "stream",
     "text": [
      "\n",
      "100%|██████████| 50/50 [00:04<00:00, 11.54it/s]"
     ]
    },
    {
     "name": "stdout",
     "output_type": "stream",
     "text": [
      "\n",
      "\n",
      "Epoch: 63, train loss: 1.6684006083, val loss: 1.72736091614"
     ]
    },
    {
     "name": "stderr",
     "output_type": "stream",
     "text": [
      "\n",
      "100%|██████████| 50/50 [00:04<00:00, 13.19it/s]"
     ]
    },
    {
     "name": "stdout",
     "output_type": "stream",
     "text": [
      "\n",
      "\n",
      "Epoch: 64, train loss: 1.6987870121, val loss: 1.58834822178"
     ]
    },
    {
     "name": "stderr",
     "output_type": "stream",
     "text": [
      "\n",
      "100%|██████████| 50/50 [00:04<00:00, 11.79it/s]"
     ]
    },
    {
     "name": "stdout",
     "output_type": "stream",
     "text": [
      "\n",
      "\n",
      "Epoch: 65, train loss: 1.68211359501, val loss: 1.70820727348"
     ]
    },
    {
     "name": "stderr",
     "output_type": "stream",
     "text": [
      "\n",
      "100%|██████████| 50/50 [00:04<00:00, 11.97it/s]"
     ]
    },
    {
     "name": "stdout",
     "output_type": "stream",
     "text": [
      "\n",
      "\n",
      "Epoch: 66, train loss: 1.65277896166, val loss: 1.72956221104"
     ]
    },
    {
     "name": "stderr",
     "output_type": "stream",
     "text": [
      "\n",
      "100%|██████████| 50/50 [00:04<00:00, 11.17it/s]"
     ]
    },
    {
     "name": "stdout",
     "output_type": "stream",
     "text": [
      "\n",
      "\n",
      "Epoch: 67, train loss: 1.62128105164, val loss: 1.76494479179"
     ]
    },
    {
     "name": "stderr",
     "output_type": "stream",
     "text": [
      "\n",
      "100%|██████████| 50/50 [00:03<00:00, 12.65it/s]"
     ]
    },
    {
     "name": "stdout",
     "output_type": "stream",
     "text": [
      "\n",
      "\n",
      "Epoch: 68, train loss: 1.73047556639, val loss: 1.71956477165"
     ]
    },
    {
     "name": "stderr",
     "output_type": "stream",
     "text": [
      "\n",
      "100%|██████████| 50/50 [00:03<00:00, 12.05it/s]"
     ]
    },
    {
     "name": "stdout",
     "output_type": "stream",
     "text": [
      "\n",
      "\n",
      "Epoch: 69, train loss: 1.6996435976, val loss: 1.50318837166"
     ]
    },
    {
     "name": "stderr",
     "output_type": "stream",
     "text": [
      "\n",
      "100%|██████████| 50/50 [00:03<00:00, 12.03it/s]"
     ]
    },
    {
     "name": "stdout",
     "output_type": "stream",
     "text": [
      "\n",
      "\n",
      "Epoch: 70, train loss: 1.73645836353, val loss: 1.80821144581"
     ]
    },
    {
     "name": "stderr",
     "output_type": "stream",
     "text": [
      "\n",
      "100%|██████████| 50/50 [00:04<00:00, 11.95it/s]"
     ]
    },
    {
     "name": "stdout",
     "output_type": "stream",
     "text": [
      "\n",
      "\n",
      "Epoch: 71, train loss: 1.66735198021, val loss: 1.64578003883"
     ]
    },
    {
     "name": "stderr",
     "output_type": "stream",
     "text": [
      "\n",
      "100%|██████████| 50/50 [00:04<00:00, 12.25it/s]"
     ]
    },
    {
     "name": "stdout",
     "output_type": "stream",
     "text": [
      "\n",
      "\n",
      "Epoch: 72, train loss: 1.65594026566, val loss: 1.36518090963"
     ]
    },
    {
     "name": "stderr",
     "output_type": "stream",
     "text": [
      "\n",
      "100%|██████████| 50/50 [00:04<00:00, 12.40it/s]"
     ]
    },
    {
     "name": "stdout",
     "output_type": "stream",
     "text": [
      "\n",
      "\n",
      "Epoch: 73, train loss: 1.64214755774, val loss: 1.58283617496"
     ]
    },
    {
     "name": "stderr",
     "output_type": "stream",
     "text": [
      "\n",
      "100%|██████████| 50/50 [00:03<00:00, 14.20it/s]"
     ]
    },
    {
     "name": "stdout",
     "output_type": "stream",
     "text": [
      "\n",
      "\n",
      "Epoch: 74, train loss: 1.73825897932, val loss: 1.72393014431"
     ]
    },
    {
     "name": "stderr",
     "output_type": "stream",
     "text": [
      "\n",
      "100%|██████████| 50/50 [00:04<00:00, 13.10it/s]"
     ]
    },
    {
     "name": "stdout",
     "output_type": "stream",
     "text": [
      "\n",
      "\n",
      "Epoch: 75, train loss: 1.66565876126, val loss: 1.70708303452"
     ]
    },
    {
     "name": "stderr",
     "output_type": "stream",
     "text": [
      "\n",
      "100%|██████████| 50/50 [00:04<00:00, 12.44it/s]"
     ]
    },
    {
     "name": "stdout",
     "output_type": "stream",
     "text": [
      "\n",
      "\n",
      "Epoch: 76, train loss: 1.64604670882, val loss: 1.75160751343"
     ]
    },
    {
     "name": "stderr",
     "output_type": "stream",
     "text": [
      "\n",
      "100%|██████████| 50/50 [00:04<00:00, 12.24it/s]"
     ]
    },
    {
     "name": "stdout",
     "output_type": "stream",
     "text": [
      "\n",
      "\n",
      "Epoch: 77, train loss: 1.60405292034, val loss: 1.69920110703"
     ]
    },
    {
     "name": "stderr",
     "output_type": "stream",
     "text": [
      "\n",
      "100%|██████████| 50/50 [00:04<00:00, 13.32it/s]"
     ]
    },
    {
     "name": "stdout",
     "output_type": "stream",
     "text": [
      "\n",
      "\n",
      "Epoch: 78, train loss: 1.65799736738, val loss: 1.61906731129"
     ]
    },
    {
     "name": "stderr",
     "output_type": "stream",
     "text": [
      "\n",
      "100%|██████████| 50/50 [00:04<00:00, 12.02it/s]"
     ]
    },
    {
     "name": "stdout",
     "output_type": "stream",
     "text": [
      "\n",
      "\n",
      "Epoch: 79, train loss: 1.64408801556, val loss: 1.33688415289\n",
      "Finish :)\n"
     ]
    },
    {
     "name": "stderr",
     "output_type": "stream",
     "text": [
      "\n"
     ]
    }
   ],
   "source": [
    "from tqdm import tqdm\n",
    "\n",
    "for epoch in range(n_epochs):\n",
    "    train_loss=0\n",
    "    for _ in tqdm(range(n_batches_per_epoch)):\n",
    "        train_loss += train_step(*generate_batch(img_codes,captions,batch_size))\n",
    "    train_loss /= n_batches_per_epoch\n",
    "    \n",
    "    val_loss=0\n",
    "    for _ in range(n_validation_batches):\n",
    "        val_loss += val_step(*generate_batch(img_codes,captions,batch_size))\n",
    "    val_loss /= n_validation_batches\n",
    "    \n",
    "    print('\\nEpoch: {}, train loss: {}, val loss: {}'.format(epoch, train_loss, val_loss))\n",
    "\n",
    "print(\"Finish :)\")"
   ]
  },
  {
   "cell_type": "markdown",
   "metadata": {},
   "source": [
    "### apply trained model"
   ]
  },
  {
   "cell_type": "code",
   "execution_count": 34,
   "metadata": {
    "collapsed": true
   },
   "outputs": [],
   "source": [
    "#the same kind you did last week, but a bit smaller\n",
    "from pretrained_lenet import build_model,preprocess,MEAN_VALUES\n",
    "\n",
    "# build googlenet\n",
    "lenet = build_model()\n",
    "\n",
    "#load weights\n",
    "lenet_weights = pickle.load(open('data/blvc_googlenet.pkl'))['param values']\n",
    "set_all_param_values(lenet[\"prob\"], lenet_weights)\n",
    "\n",
    "#compile get_features\n",
    "cnn_input_var = lenet['input'].input_var\n",
    "cnn_feature_layer = lenet['loss3/classifier']\n",
    "get_cnn_features = theano.function([cnn_input_var], lasagne.layers.get_output(cnn_feature_layer))"
   ]
  },
  {
   "cell_type": "code",
   "execution_count": 35,
   "metadata": {
    "collapsed": true
   },
   "outputs": [],
   "source": [
    "from matplotlib import pyplot as plt\n",
    "%matplotlib inline\n",
    "\n",
    "#sample image\n",
    "img = plt.imread('data/Dog-and-Cat.jpg')\n",
    "img = preprocess(img)"
   ]
  },
  {
   "cell_type": "code",
   "execution_count": 37,
   "metadata": {},
   "outputs": [
    {
     "data": {
      "text/plain": [
       "<matplotlib.image.AxesImage at 0x7f7f8aecdc50>"
      ]
     },
     "execution_count": 37,
     "metadata": {},
     "output_type": "execute_result"
    },
    {
     "data": {
      "image/png": "[encoded data removed]",
      "text/plain": [
       "<matplotlib.figure.Figure at 0x7f7f98bce950>"
      ]
     },
     "metadata": {},
     "output_type": "display_data"
    }
   ],
   "source": [
    "#deprocess and show, one line :)\n",
    "plt.figure(figsize=(15,7))\n",
    "from pretrained_lenet import MEAN_VALUES\n",
    "plt.imshow(np.transpose((img[0] + MEAN_VALUES)[::-1],[1,2,0]).astype('uint8'))"
   ]
  },
  {
   "cell_type": "markdown",
   "metadata": {},
   "source": [
    "## Generate caption"
   ]
  },
  {
   "cell_type": "code",
   "execution_count": 40,
   "metadata": {
    "collapsed": true
   },
   "outputs": [],
   "source": [
    "last_word_probas_det = get_output(predicted_probabilities,deterministic=False)[:,-1]\n",
    "\n",
    "get_probs = theano.function([image_vectors,sentences], last_word_probas_det)\n",
    "\n",
    "#this is exactly the generation function from week5 classwork,\n",
    "#except now we condition on image features instead of words\n",
    "def generate_caption(image,caption_prefix = (\"START\",),t=1,sample=True,max_len=100):\n",
    "    image_features = get_cnn_features(image)\n",
    "    caption = list(caption_prefix)\n",
    "    for _ in range(max_len):\n",
    "        \n",
    "        next_word_probs = get_probs(image_features,as_matrix([caption]) ).ravel()\n",
    "        #apply temperature\n",
    "        next_word_probs = next_word_probs**t / np.sum(next_word_probs**t)\n",
    "\n",
    "        if sample:\n",
    "            next_word = np.random.choice(vocab,p=next_word_probs) \n",
    "        else:\n",
    "            next_word = vocab[np.argmax(next_word_probs)]\n",
    "\n",
    "        caption.append(next_word)\n",
    "\n",
    "        if next_word==\"#END#\":\n",
    "            break\n",
    "            \n",
    "    return caption"
   ]
  },
  {
   "cell_type": "code",
   "execution_count": 46,
   "metadata": {
    "scrolled": false
   },
   "outputs": [
    {
     "name": "stdout",
     "output_type": "stream",
     "text": [
      "the cat looking out of the window\n",
      "kitten is sitting on a vase with its neck\n",
      "a cat sitting on a tree wearing a small church\n",
      "cat feeding head about for a pet stuffed staring like five zoo animals\n",
      "little long baby and gray cat are sleeping on a window sill\n",
      "a white teddy bear looking in a bag case\n",
      "a white black cat that is sitting on a lush green blanket\n",
      "a cat looking at a #UNK# in a pillow\n",
      "a white view view of a scruffy stuffed teddy bear covered in the backyard\n",
      "display as looking and a large stuffed portions\n",
      "--------------------------------------------\n",
      "stuffed looking a dog filled in front of a potted plant\n",
      "a cat laying in an business basket\n",
      "a cat who is laying next to 2 fruit seat\n",
      "a gray and black shirt is taking 4 kreme stripes\n",
      "a group of teddy bears sitting next to a cans of flowers\n",
      "a cat standing next to wii with writing on a tree\n",
      "a a large cat walking next to a small cat\n",
      "a couple of teddy bears and stuffed teddy bear\n",
      "a teddy bear is placed in a white chair\n",
      "a cat laying on top of a very big bag\n",
      "--------------------------------------------\n",
      "a stuffed bear eating a stuffed animal out resting on the grass beside\n",
      "bowls is kitten sitting on the curb\n",
      "a stuffed animal sticking its head in a tree\n",
      "two cats and stuffed animals on a box\n",
      "panda animals in the middle of a living room with 3rd silo attached to leaves\n",
      "a steer in a pink shirt with a leg laying on\n",
      "composite a brown teddy bear is sitting in the grass\n",
      "a small giraffe is sitting at pitchers looking to contact\n",
      "a cute teddy bear is sitting between a table wheel\n",
      "a small few children are benches that are laying together\n",
      "--------------------------------------------\n",
      "the back of the cat is perched behind her stuffed animal\n",
      "a teddy bear is a bunch of cashews flower inside of there in the window sill\n",
      "cat that is looking into the thin #UNK#\n",
      "a cat is sitting next to a woman in a pin at a plant\n",
      "the egg was drivers put up beside the road\n",
      "teddy bears in the black past a manger brick area\n",
      "a stuffed fluffy teddy bear puts a fire housed\n",
      "a small cat laying next to a #UNK#\n",
      "a teddy bear on a white table\n",
      "black and white cat through the wild\n",
      "--------------------------------------------\n",
      "small cat sitting at a latest photo\n",
      "a person is feeding stuffed kittens outside of a big case\n",
      "lady holding in a dingy and white dress\n",
      "chef pictures in a leafy bowl on a piece of ranch\n",
      "a brown cat sitting in food on the gate\n",
      "some cats and a cat walking on a doily on a tree\n",
      "a black cat scoops the standing in a bird staring at the camera\n",
      "a cat talking on a bench next to a keyboard\n",
      "taken cat heads in the front of the bathroom\n",
      "a black and #UNK# and black and #UNK# congregate zebra\n",
      "--------------------------------------------\n",
      "little cute girl walking in the small gray blanket\n",
      "a cat sits on a top of personal legs to coleslaw\n",
      "a person eats sad giraffe looking at a piece of orange\n",
      "a flower colored teddy bear laying on a car screen\n",
      "a kitten with grey red and blue and blue end\n",
      "well sitting on a table branch at a large sunlight\n",
      "a robot that is sitting on the side of a green bench\n",
      "black cat cut flowers into food as another cat nurses looking up\n",
      "this cat that has #UNK# broken on the phone\n",
      "asleep has orange flowers on top of it\n",
      "--------------------------------------------\n",
      "the small cat and grey animal eat a small lookign with bases and toy\n",
      "a person in white shirt with a piece of smile on it\n",
      "childs and a very white dainty white colorful face carrier cell\n",
      "cat that is is against green left\n",
      "#UNK# each cat sitting outside of a window\n",
      "a dog laying down next to a really teddy bear\n",
      "cute dog sitting in a basket looking in a pink towel\n",
      "cat in a haired hat looking at the other\n",
      "two young white teddy bear in a store\n",
      "kitten wearing a white display over the tank\n",
      "--------------------------------------------\n",
      "a man sitting over a plate sitting in the grass holding reach the vace\n",
      "a cat stands right on the door of an adult sleeping staring on its shoulder\n",
      "a girl sitting next to a long bench\n",
      "black and white teddy bear sitting next to each other\n",
      "a red teddy bear and a piece close up on the picnic wall\n",
      "a cat standing on a shower ground\n",
      "a cat is standing around a window\n",
      "a toy bird is and placed under a fence\n",
      "a little black cat is standing near a donut\n",
      "two animals that sitting on a counter corner\n",
      "--------------------------------------------\n",
      "man teddy bear getting off a grassy door\n",
      "a large cat standing in a vase in a flowery cage studio\n",
      "two gray animals with cat on a market\n",
      "a large teddy bear on a shelf next to a lap\n",
      "an adult baby looking in a striped neck\n",
      "a little scarf standing in front of the window\n",
      "urinals on a wooden table while in the background\n",
      "black and white teddy bear sitting and a teddy bear on the couch\n",
      "cat displays the box of a cart zoo from a #UNK# vehicle\n",
      "a cat in front of a car and a teddy bear on\n",
      "--------------------------------------------\n",
      "little bears standing in a field next to a bin\n",
      "brown vase sitting on top of a cabinet\n",
      "mother surfs with carrots and white arrangement\n",
      "toothbrushes and glazed placed on a run around\n",
      "a cat is laying in a tree and tightly tags on them\n",
      "sheep a teddy bear sitting behind a log\n",
      "a black kitten talking on a basket\n",
      "candles with tossed neck and very #UNK# of thread needle\n",
      "two grey and white teddy bears in the table\n",
      "an teddy bear finished cat lazily soda near the savanna\n",
      "--------------------------------------------\n",
      "a panda bear locked in its hand\n",
      "a cat hanging at a fence from a phone\n",
      "fruit tray with a large doll that has been yawning in its mouth\n",
      "cat with look and tie barrels near a comb\n",
      "a cat licking the window of a window\n",
      "a group of cats sitting next to each other\n",
      "two grey white teddy bears in a christmas wheel\n",
      "tow lying laying outside with subway small flowers\n",
      "shorts is standing next to a large tree\n",
      "grey cat sitting on the ground in front of a white mat\n",
      "--------------------------------------------\n",
      "animals eating logs on table in a large lawn and shrubbery\n",
      "teddy bear statue and high stuffed animal toys\n",
      "cat stand hanging in a tree case\n",
      "a small gray cat with four sheep\n",
      "animals animals in shower with legs out\n",
      "a dog laying on the ground riding a street\n",
      "teenage baby teddy bears sitting on a couch\n",
      "a cat sitting on top of a small yellow orange car covered\n",
      "brown dog in a pile of cat hanging out of a caption\n",
      "a black cat opens into the grass in a room\n",
      "--------------------------------------------\n",
      "cat lying on #UNK# window around a open building\n",
      "wooden beach with a stuffed head sculpture is on its hind lawn\n",
      "zebra drinking her jars next to a tree nearly flag\n",
      "a furry teddy bear and a purple crusted wagon\n",
      "a brown cat under a frisbee in a market\n",
      "small #UNK# full of flower without magazines\n",
      "cat look through an heads made of white sliced pizza\n",
      "small chamber grey cat rests on green tile floor\n",
      "a baby and yellow cat laying outside by a good frisbee\n",
      "a fat and brown cat with flowers in the background\n",
      "--------------------------------------------\n",
      "a cat drawn decorated sign connected to a of tree\n",
      "a small stuffed animal laying on a top branch\n",
      "the cat is on the small sign watching\n",
      "an image of a chihuahua cat and a mixed dessert\n",
      "a small clock with no pet bottle on a vendors sheet\n",
      "a cat and yellow hair rock a big tan rabbit\n",
      "a small teddy bear lying next to a green glass\n",
      "a black teddy bear sitting in the front of a flat car sculpture\n",
      "the street nesting is designed in of #UNK#\n",
      "three kids are sitting in a variation sitting next to each other\n",
      "--------------------------------------------\n",
      "a few stuffed dogs standing in the grass\n",
      "theres a baby is eating his face\n",
      "two cats are sitting in the neckties\n",
      "brown and white cat and several teddy bears on red around\n",
      "multi sheep and white ticket on the tree\n",
      "kids is looking cat on a bed\n",
      "a cat is sitting on a flat puppy looking out of water\n",
      "a cat sitting around a little bear nurses located\n",
      "a rhinos is a balding cat next to some varieties of animals\n",
      "a lone teddy bear is shown in the table\n",
      "--------------------------------------------\n",
      "a pair of #UNK# faces teddy bears tucked each other\n",
      "little #UNK# and multicolored cat laying on a cold bench\n",
      "a cat holding a lamb on its head\n",
      "a cat laying on a rock underneath a house\n",
      "an image of a dog with a shelfs face and an object in a group of disk\n",
      "white kitten is open filled in window\n",
      "strawberry dog sitting at a table sill on a bench\n",
      "a black and cat is placed under her head\n",
      "a teddy teddy bear sitting on a table\n",
      "the and a black teddy bear sitting on a table\n",
      "--------------------------------------------\n",
      "camera looking at the lower front of a design next to a car\n",
      "little lambs and brown eating cat straight surprised\n",
      "a couple of cats sitting on a chair holding the other are in the yard\n",
      "small orange and orange bears sitting on the sidelines next to cats\n",
      "two teddy bears laying down in hanging out on a counter\n",
      "the green teddy bear is hanging from two trees\n",
      "a brown teddy bear laying down on a piece of potted rocks\n",
      "a doughnut in a picture sill with a bunny height and enough to look over\n",
      "a panda plant with yellow flower ahead\n",
      "some animals with use in the colored tree\n",
      "--------------------------------------------\n",
      "a lady featuring a teddy bear herds frisbee right #UNK#\n",
      "many cats planes with an #UNK# feeder\n",
      "a large rocking cat stands next to a screened rack\n",
      "a dog and polka shoes who are of a tent\n",
      "is sitting on a bundle of flowers\n",
      "dog sitting at table with a teddy bears with a red background\n",
      "a black dog is eating and a young cow\n",
      "a grey cat sitting on a floor next to some mouth\n",
      "showing himself on a mini vase with a basket on a table\n",
      "a couple of stuffed bears staring at a large #UNK#\n",
      "--------------------------------------------\n",
      "the bear sitting in the #UNK# making the broken plant in toppings\n",
      "hand looking in a red jacket wears a purple teddy bear\n",
      "a small brown cat with a basket in the simple field\n",
      "two dog lie up in an empty window\n",
      "a black and white cat air with #UNK# rest\n",
      "photograph shows a car on a bowl\n",
      "two wild teddy bears sitting in a background\n",
      "many clock sitting on a table with one assorted small decorations\n",
      "an doll stands with a blond eats\n",
      "a denim teddy bear is perched on a blue tree\n",
      "--------------------------------------------\n",
      "small white and brown cat standing inside the dirty street\n",
      "a pair of cows resting on the grass table\n",
      "two cats resting on a table under a lot of olives\n",
      "toy teddy bears are on the ground that touching a glass green tag and bread on the court\n",
      "two cat appearing for open #UNK# with other colors\n",
      "a black cat ready to eat a window\n",
      "a wii teddy bear is on the wooden walkway\n",
      "image of a car that has been kicks on a human tree\n",
      "pictures of a tabby cat on something by a blanket\n",
      "a lone cat is sitting on a chair\n",
      "--------------------------------------------\n",
      "a stuffed teddy bear sitting on some grass\n",
      "a teddy bear can visible in front of a tree\n",
      "the cat lays on a grass control setting\n",
      "dark black angel black is toy on a bench\n",
      "a apple with a white cat in its mouth\n",
      "a small is on a stuffed brown teddy bear\n",
      "tv looking in a vase near a cat\n",
      "large cat amongst different lambs in the grass\n",
      "sign sitting atop a set of glass of fruit\n",
      "some stuffed sheep in a cage in a square sheep\n",
      "--------------------------------------------\n",
      "a person is sitting in a vase\n",
      "two stuffed pig bears are standing in the middle of the counter\n",
      "a black cat is laying in a #UNK# sill\n",
      "a rodeo of three small stuffed red doll on a grassy next to each other\n",
      "a big teddy bear sitting on a table\n",
      "a partially brown cat laying on the ground\n",
      "a cat standing next to a house in a lot\n",
      "great up #UNK# turkey against wooden wall\n",
      "a close up of a picture with rose propped up way in a blue vase\n",
      "cat sit on a chair behind a window sill\n",
      "--------------------------------------------\n",
      "a cat looking like a car in its mouth\n",
      "purple and white stuffed teddy bear standing next to another cake\n",
      "a cat laying on a pink bench\n",
      "a teddy bear is print with ripped on the grass\n",
      "two cats crossing the flowers outside\n",
      "two animals in a glass with pizza on the ceiling\n",
      "a cat curled up on a keyboard\n",
      "a large woman feeds a cake lays in the sides of a window\n",
      "crochet milk green and white antelope sitting on bowls\n",
      "a cat is standing alongside a vase with two other animals and candles\n",
      "--------------------------------------------\n",
      "a bear is being herded by the ground\n",
      "small school cat lying on a table in the mirror\n",
      "small apple close up in the enclosed area\n",
      "an orange and beautiful kitten crosses its head\n",
      "two small animals on the side a rail\n",
      "a fluffy animal laying on the floor next to another banana\n",
      "a small teddy bear sitting on a counter\n",
      "someone is standing next by to there are out of a cartoon drink\n",
      "small dog walking under a stuffed puppy\n",
      "a girl using her hair with a teddy bear hung on a couch\n",
      "--------------------------------------------\n",
      "luggage in face sits on the porch with blanket and a bouquet of packed back\n",
      "a panda bears inside a window with a cemetery\n",
      "several types of sheep resting in a vase in a field\n",
      "four puppy looking down a table near covered on a grass surface\n",
      "child with funny mouth on a toy bowl\n",
      "a dog with a dog looking at something\n",
      "a teddy bear sitting on a big drink face\n",
      "a cat sitting in a chair behind a statue\n",
      "child bears streaming on\n",
      "a teddy bear with green bunny in a tank\n",
      "--------------------------------------------\n",
      "cat eating the head in a cage\n",
      "a flower is holding a poster of a cake\n",
      "a cat is sitting on top of a green chair\n",
      "surfboarders is approaching the golden animal that is leaned the from of unusual fur\n",
      "a black cat in a teddy bear stands beside the item looking up\n",
      "a coffee cat and a cat looks on a piece of lawn\n",
      "a cat #UNK# staring like a home with a waterfall one dog on the front of him\n",
      "another cat is resting on a bench under a shiny chair\n",
      "white buffalo without white plant and white\n",
      "close up window of a teddy bear and a stuffed animal in geese\n",
      "--------------------------------------------\n",
      "a cat in a vase holding her shoulder\n",
      "two sandwiches theres a teddy bear reading mix\n",
      "an animal on a plastic rail\n",
      "six broccoli in the blue pasture\n",
      "two #UNK# one vehicular teddy bear next to a large basket on a disc colored suitcase\n",
      "a couple cut with a customer that has no doughnut in its mouth\n",
      "black black cat sitting outside with a mossy building\n",
      "fuzzy public cats statue with a blue teddy bear\n",
      "two black green bears looking straight teddy bears\n",
      "two chickens is eating to out a window\n",
      "--------------------------------------------\n",
      "a wooden teddy bear tries to drink walk leaves\n",
      "white black and white public eyed mounted\n",
      "a cat profile cream laying on a wooden counter on a table\n",
      "a smal person standing up up and football\n",
      "hotdog and a green fence in a distance looking at a beautiful jet\n",
      "an orange cat looking at a train on a beach\n",
      "a cat looking out of white legs\n",
      "a boy is laying next to a small stuffed bear\n",
      "a teddy bear is nestled eating a field\n",
      "an orange teddy bear is lounging in a kitchen\n",
      "--------------------------------------------\n",
      "a small dog with a curb laying beside the floor\n",
      "a small boy puts a stuffed lamb on an open apple\n",
      "a sheep with decorative feathers in an outdoor loaf and small colored owl\n",
      "a cat holding a halloween out its head\n",
      "teddy bears sits in an living area park with many pillows in a blue towel\n",
      "a white and orange cat is looking at the nap\n",
      "the small cat has its mouth and some wire above them\n",
      "a #UNK# teddy bed laying in a car by a window\n",
      "a stuffed animal sleeps on top of a bench\n",
      "him and orange cat tries to christmas flowers\n",
      "--------------------------------------------\n",
      "stuffed colorful cat exchange plain from the photo\n",
      "a vase full of large folding grass\n",
      "a white cat standing up in the tank of a table\n",
      "a steps how to put the bowl of wool\n",
      "white teddy bear and a stuffed animal while turned on the cushion on\n",
      "business teddy bear poking to the bottom a coffee stand\n",
      "a haired brown cat sitting on a wooden ledge\n",
      "two dogs that are sizes in its mouth\n",
      "entrance of two coats urinals are sitting on display\n",
      "a brown grey cat sitting on the ground next to a plaid black bag\n",
      "--------------------------------------------\n",
      "a cute crystal teddy bear sleeps in a high tree\n",
      "a small lady on a teddy bear on\n",
      "a cat that is for an velvet blazer\n",
      "silly pug and white animals eating a picture of stuff\n",
      "large teddy bear goes to the each tree\n",
      "a large zebra sitting off by a library containing ripe vases\n",
      "animals on a blue curtains table\n",
      "small teddy bear are lounging in a padded chair in a blue ear of green trees\n",
      "four white animals and a muddy cat\n",
      "high small #UNK# looking up in an room with a metal chair\n",
      "--------------------------------------------\n",
      "cat dressed up on a field with different laid out\n",
      "a girls head blowing up meals on a cluster\n",
      "baseballs orange and sheep in their mouth and dead\n",
      "modern stuffed bears wearing a brown vase that and a white and brown church\n",
      "young little bears having petted in a gray room\n",
      "shelves of stuffed animals in a #UNK# language\n",
      "black holding not cub in bloom in a blue vase\n",
      "a cat in a cat with long flowers behind the left trunk\n",
      "people with up playing window next to each other\n",
      "four orange bears laying in a full case\n",
      "--------------------------------------------\n",
      "a black and white cat swinging a kite at the screen\n",
      "bright cat sitting on grass on a table sill\n",
      "numerous white brown and gray bears orange\n",
      "sound in a pink courtyard laying on the display\n",
      "a red microwave and a smaller cat sitting on a table\n",
      "a pen with a nose of black and white plants\n",
      "a bunch of stuffed animals shaped plants for the outside\n",
      "a toy picture of an object vehicle in a mirror\n",
      "two scruffy stuffed teddy bears laying on top of a couch\n",
      "pretty dog in the top has a cat on her leash scratched\n",
      "--------------------------------------------\n",
      "the white cat is information showing a small cat sitting at her cat\n",
      "a black and brown black toy cat staring in a pile on both foil\n",
      "the display from a blue teddy bear\n",
      "a toy soaring view of a dark metal figurine in a tree\n",
      "a white and white kitten posted in a mirror\n",
      "a little boy standing next to a white stuffed barn with colorful toys\n",
      "two bears are sleeping past this magazine\n",
      "a grey puppy perched on a table next to a mostly logs on a pink string sill\n",
      "bird is on a sheet plate place\n",
      "a baby door of a dog watching a child\n",
      "--------------------------------------------\n",
      "a teddy cat wearing a blue white black setting\n",
      "a cat with a baby sitting inside of a meatball branch in a wooded area\n",
      "brown and cat placed on a tree shelf by grass\n",
      "black cat that is inside of a christmas glass building\n",
      "a group of animals made by a purple tree\n",
      "a large brown teddy bear looking to a cupcake\n",
      "a fuzzy furry toy cat made banana\n",
      "a boy dressed up grey bears on a window\n",
      "a green and white teddy bear is some drink\n",
      "zebra a dog looking at a blue bed cage around the house with people are around a shark on a chair\n",
      "--------------------------------------------\n",
      "a cat is strapped out of a bowl of medical\n",
      "a cat and a horse looking at the ground\n",
      "a brown cat sitting in the middle of a road\n",
      "a dog laying lying on pillows next to a piece of blue flowers\n",
      "a white cat with its animals on the wall\n",
      "a small rose with a variety of some wedding flowers\n",
      "blue orange cabinets with a baby leaning on top of it\n",
      "grey cat is on a bed sill\n",
      "a cat laying next to a lamb near clothes\n",
      "a cat sitting on top of a wooden bench\n",
      "--------------------------------------------\n",
      "black cat laying in a photography on her head\n",
      "a black cat is lying on top of a window\n",
      "a large teddy bear is statue shoes on a tree\n",
      "cat had eyeballs on its bed in a hand sill case\n",
      "black and white cat sitting on a table on top of a building\n",
      "a purple bunch of colorful dogs face beside the balls\n",
      "surrounded and stuffed bears sitting on a vintage bench\n",
      "a cat eating corner of food on top\n",
      "reaching up from a window inside of a large window\n",
      "a cat laying on the windowsill with a blue building\n",
      "--------------------------------------------\n",
      "the close up of a cat in its mouth\n",
      "cat dressed inside of the simple sheet house\n",
      "two stuffed bears looking down in a hotel emerging\n",
      "a cat looking at a very nice #UNK#\n",
      "a cat sits left next to a green box\n",
      "one red and white cat sitting around on a tissue\n",
      "a vase full of orange and white flowers\n",
      "a black and black and cat sitting on a wedding kitchen\n",
      "teammates looking over radishes drinking from milk\n",
      "view a freezer with yellow teddy modern figure sticking its flowers on it\n",
      "--------------------------------------------\n",
      "womans hello contemplating get heated in white brush\n",
      "first cat insects perched on a table\n",
      "an owl that is sitting in front of a tree\n",
      "a cat is walking beside a fluffy car on top of a tarmac\n",
      "a corner aged cat resting in the view of the island passes in front of a lot of small beauty\n",
      "an adorable teddy bear following a small stuffed bear\n",
      "the clear and sheep appearing to look like the cats\n",
      "cat sitting in a close room with hay from the road\n",
      "young group of cat sitting around of a master\n",
      "a bulldog beat up picture a park\n",
      "--------------------------------------------\n",
      "a black cat with them with a red juicer\n",
      "two teddy bed and an engine two teddy bears\n",
      "a cat is standing with a pile of lunch near a dog\n",
      "a baby teddy bear eating large tulips\n",
      "a white cat laying its head with red head and wicker wings and a banana on them sits down\n",
      "two cats watching a cat and coached\n",
      "two small teddy bears with green pen in the snow\n",
      "a puppy in a colorful sweater who looks on them\n",
      "a brown teddy bear perched on a floor\n",
      "a orange and small large tiered cat background\n",
      "--------------------------------------------\n",
      "a cat sitting past its paw on a green bathroom next to a #UNK#\n",
      "a number of stuffed animals laying next to each other\n",
      "a stop sign has an image of some variety of vegetables\n",
      "lot two sinks on the ground watching the base\n",
      "a black and white girl sitting down with stuffed animals\n",
      "several teddy bears laying in all looking to sleeping\n",
      "teddy bears handing off of #UNK# looking at a shoe\n",
      "two nicely stuffed animals and horse sitting on a vase\n",
      "birds standing in a vase #UNK# with a tree in the forest\n",
      "a teddy bear with computer hair hung over by something\n",
      "--------------------------------------------\n",
      "the baby looking out getting at a computer\n",
      "it is high three smaller animals surrounded by fruit\n",
      "a firetruck and green glasses and a crowd of stuffed tossed military heads\n",
      "open and black teddy bears in the blue cat of a toothbrush\n",
      "a cat that is and a zebra sitting on the plants\n",
      "a cat lounging in a chair in front of a eating wood\n",
      "little cute yellow cat sleeping in a window\n",
      "a cat is looking at a small pot next to a white dog\n",
      "black and white cat sitting on a bench\n",
      "a kitten looking down a love inside\n",
      "--------------------------------------------\n",
      "some brown birds sitting inside of a sheet\n",
      "people laying canoe as a crow laying on a picnic kitchen with orange\n",
      "a cat leans crossing top in a microwave\n",
      "a big brown teddy bear case to mean\n",
      "a kitten in a gray shirt eating with a couple of sheep\n",
      "a baseball monument sitting in a green tree\n",
      "photo of a cat in costumes on an audience\n",
      "with white flowers drinking beverages and other products\n",
      "a cat laying in the structure of a green tub\n",
      "a stuffed dog holding a bicycle on a table\n",
      "--------------------------------------------\n",
      "a photo of a white and two girls standing on a tree\n",
      "a long wooden cat and a cat on the back of a under a lap top of pen\n",
      "a a gray hat and a cat in a black and gray tie lays in a green blanket\n",
      "a stuffed animal in a white chair with the foot on it\n",
      "a brown cat gestures off a bed sill surrounded by ornaments\n",
      "yellow black and white haired cat is looking in a car\n",
      "a red blue teddy bear hanging up on a farm patio near green flowers\n",
      "a woman orchard up a tiny teddy bear styled back\n",
      "two kitten holding a teddy bear in front of other it\n",
      "cat doesnt really #UNK# from an routine mounted\n",
      "--------------------------------------------\n",
      "green teddy bear with indian teddy bears on the floor\n",
      "four food asleep on the grass and two people are #UNK# up from\n",
      "several cats tied to a pup in it\n",
      "a fork and white design behind the flowers\n",
      "a cat relaxing showing a keyboard\n",
      "a bench with a bunch of chairs on the floor\n",
      "the cat is giving the disc in an otherwise lap\n",
      "blue white orange cat sitting on top of a table\n",
      "a cat sitting on a table with text other juices\n",
      "three cows sitting on a table in food\n",
      "--------------------------------------------\n",
      "a cat standing next to a balcony with only a looking monument\n",
      "a stuffed bear enjoying the store carrot and someones liquor book filled\n",
      "a small dog in stares at a dinner and white sky\n",
      "advertising a chihuahua that is looking at a stuffed rabbit\n",
      "two people sitting in a bed and surface\n",
      "man grabbing an grouping of bears looking at it\n",
      "woman 350 outside of something in the middle of the cabinet\n",
      "a toddler has stuffed animals around the center of flowers\n",
      "a vase of stuff and eating on a plate with a pizza nearby\n",
      "cat animals in front of a tiny bird\n",
      "--------------------------------------------\n",
      "a large cat in a green open couch tie\n",
      "street is looking raised up with luggage cut in it\n",
      "small orange and white and black cat behind sheep\n",
      "the stuffed is sitting on a chair putting beers\n",
      "two stuffed bears are laying on a grass next to a balloon\n",
      "people figurines laying down looking on\n",
      "a small white cat is inside a mna\n",
      "a picture of four teddy bears sitting at a table\n",
      "three girls standing in a public window\n",
      "a baby holding bird in front of a window\n",
      "--------------------------------------------\n",
      "giraffe and teddy bears legs close off of a window\n",
      "a black banana is in the window\n",
      "bushes and a bare car is tied to another bowl\n",
      "stuffed bears talking next to some plants next to a bottle of featuring green\n",
      "a cat head next to another small bottle\n",
      "a young woman looking out of a piece of cake\n",
      "there is a brown kitten laying in grass on toys\n",
      "a red stuffed animal cant on a bed with a brown red cat on his open side\n",
      "this tiny kitten sits on a couch near a stuffed animal belt\n",
      "a small panda bear on the top of a wall\n",
      "--------------------------------------------\n",
      "three animals and animals on the sidewalk in large natural area sun area\n",
      "black and brown cat sitting on a sofa bench\n",
      "cat shaped looking intently at a small stone cup\n",
      "a red fire hydrant together in a field\n",
      "a small orange cat in some grass in a blue area\n",
      "a cat holds a stuffed bear on its face\n",
      "cat sit outside with many offspring on display next to each other in it watching\n",
      "a white brown bear sitting inside so two heat hoop\n",
      "an animals is sitting in the middle of a pillow\n",
      "a pair of brown bears in a green forest\n",
      "--------------------------------------------\n",
      "a cat with three colorful heads shears in front of it\n",
      "black and white paint looking at a fish oven\n",
      "a fake bear with a teddy bear\n",
      "a dog is sitting on a red clay next to a fence of grass\n",
      "a cat that is sitting on a teddy bear\n",
      "a little boy lying on a pile of looking roses at it\n",
      "a large cat sitting on top of a desk\n",
      "pretty little sheep sitting straight away in the desert\n",
      "a beverage that is laying on a building top\n",
      "there is a cat in an is open by\n",
      "--------------------------------------------\n",
      "a cat in a clocked package in a vase\n",
      "leather and white cat stand in an uncooked white eatery\n",
      "two unmanned cat sitting on a wooden field next to a bush\n",
      "brown gold and teddy bear marking #UNK#\n",
      "a red cat laying on top of a wooden bench\n",
      "a cat is on a bed sill\n",
      "black and white infant looks cat in an hands on a cell phone\n",
      "a baby and white cat sitting inside of hay\n",
      "an white red and black cat in a window is blowing much food\n",
      "stainless flowers sitting on top of a vase\n",
      "--------------------------------------------\n",
      "loft and orange and teddy bears stools sitting next to each other\n",
      "cat examining a fine wade television in a black dress stands sitting in the grass\n",
      "a cat is about by a cup on the table\n",
      "black and white orange cat sitting on a vase next to a laptop\n",
      "this cat has cat out on the tree and stuffed rose\n",
      "a kitten is staring out a gorilla and television\n",
      "a dog is standing in front of a large tree platform\n",
      "a teddy bear with its head on top of a pillow\n",
      "a couple of animals eating face out of an ones\n",
      "saddle hides two owners moved #UNK# across as glaring\n",
      "--------------------------------------------\n",
      "drawing shows the grey cake in its appliances\n",
      "a gray cat walking down a wall with red paint\n",
      "cattle inside mirror with an partner leaf\n",
      "a stuffed bear standing in a cage next to a vase\n",
      "a couple of animals beside a freestanding tree\n",
      "a cat that is tagged and brown\n",
      "shadow kittens beside a perfect ceiling\n",
      "piece of teddy bears in front of a car resting\n",
      "a teddy bear looking at something down the window\n",
      "stuffed animals with white adjust blue doughnut\n",
      "--------------------------------------------\n",
      "silver sheep next to the within a puddle of focus computer\n",
      "an orange photograph of a small teddy bear\n",
      "little teddy bird is sitting on in earth snuggle\n",
      "view of a brown cat in a large vase outside\n",
      "a large teddy bear sitting on a couch\n",
      "with a colorful teddy bear catching a tree\n",
      "a cat doll in two fabric is made\n",
      "the cat is in part of a microwave\n",
      "blurry #UNK# picture of the shelve of a puppy look in a face\n",
      "there is a cat and a dog on a twig\n",
      "--------------------------------------------\n",
      "a girl sitting in a table sill and one teddy bear is place\n",
      "a large teddy bear worn like a teddy bear on the grass\n",
      "a teddy bear sitting next to a window\n",
      "small drawing of tall stuffed animals that is in a skies\n",
      "a stuffed bear sits on top of the marble vase\n",
      "a stuffed animal that holds up color\n",
      "a stuffed bear that is on a wicker and chair\n",
      "itself a pub with a teddy bear that is in the top of a newspaper\n",
      "little cat leans down an white box\n",
      "kitten #UNK# in a refrigerator at a halved dots with the bag on it\n",
      "--------------------------------------------\n",
      "a cat is laying above a two wooden planter\n",
      "large black and white cat sleeping on a red surface\n",
      "a cat rests over a window sill outside of him\n",
      "a large brown teddy bear is sitting on a green bench\n",
      "shorts cover #UNK# of several stuffed toys on each in by\n",
      "a pink animal in black tree next to a window\n",
      "a small teddy bear is sitting on a shady curb\n",
      "a storage teddy bear doll on a string\n",
      "a blue and white orange tree facing the plants\n",
      "vegetables and a teddy bear looking out\n",
      "--------------------------------------------\n",
      "three child looking rabbit with stuff sitting on a fence\n",
      "cat look at looking up in front of a figurine\n",
      "brown teddy bear pointing under some toy\n",
      "brick fashioned adorable white and small tree\n",
      "a lone stuffed teddy bear and another dog in a barn\n",
      "a boy with a yellow pig set into its mouth\n",
      "woman wearing orange shirt and white tie with a concerned in the background\n",
      "fire open cat has its linens and a pair of white green hairbrush\n",
      "a cat standing in front of a wood porcelain filled window\n",
      "two black bears showing its its seat\n",
      "--------------------------------------------\n",
      "a couple of zebras eating some berries\n",
      "a white teddy bear eats some and some stuffed animals\n",
      "adult and white bananas in red crochet\n",
      "woman standing next to a cat points at a dining bus\n",
      "a stuffed animal sitting on a green couch\n",
      "fork and orange teddy bears are #UNK# together in the air\n",
      "various large toys inside a big white stand door\n",
      "the cat running to go basket near a store sill\n",
      "a view of a striped looking structure\n",
      "cat looking at a home animals in it\n",
      "--------------------------------------------\n",
      "a cat wearing a gentlemen sits on a bench door\n",
      "a small photo of a rose with a plane looking outs\n",
      "a close up of something and look out of the plant\n",
      "a tall teddy bear talking on top of two the bears\n",
      "a stuffed animal sits in front of a string of grass\n",
      "gazelles and black cat hugging with each other\n",
      "a yellow bird and brown cat walking along a green bench\n",
      "black cat that reads she looks with its habitat outside\n",
      "person looking at a bright stuffed ford neck\n",
      "a small orange cat laying on a wooden bench\n",
      "--------------------------------------------\n",
      "a teddy bear and teddy can a looking hot dog\n",
      "a stuffed white cat hanging into a flower vase\n",
      "a green weird perched #UNK# from a tree\n",
      "a cat relaxes in a brown pot\n",
      "sheep animals against a green frisbee covered\n",
      "a dog that is missing with her mouth in a city\n",
      "a close up of a cat standing next to other pictures\n",
      "a statue of a cat looking to their cute expression\n",
      "two green windows on a lush green grass area\n",
      "plain tiled stuffed bears and two small animals are on a crowded table\n",
      "--------------------------------------------\n",
      "lots of teddy bears in a dead basket\n",
      "a metal cat sitting next to a wooden window\n",
      "sign with mobile and large shiny tiled plants\n",
      "berry giraffe hold a canvas while sitting on a nice bench\n",
      "a close up of a cat sticking and young underneath on\n",
      "a cat and a cat under the second walk\n",
      "red and a gray dog with an assortment of starbucks flowers\n",
      "the teddy bear and head flowers on the ground\n",
      "the food is looking up to a teddy bear\n",
      "a woman holding a selection of birds in the mixture\n",
      "--------------------------------------------\n",
      "a picture of a top top of a bunch of teddy bears\n",
      "a cat and two tank a green fence\n",
      "cat sitting in a black vase and bananas\n",
      "little sheep are added for a leaf\n",
      "five cats on the lot of each other\n",
      "soccer walks down a small head sits between a #UNK# look\n",
      "black black cat sitting next to a #UNK#\n",
      "a family of stuffed animals around a table with a green laptop\n",
      "a teddy bear sitting on a table with matching bare flowers\n",
      "a black cat standing next to a garden removing each other\n",
      "--------------------------------------------\n",
      "a fluffy dog laying in two animals sitting down on the #UNK#\n",
      "two donuts and cats asleep in a black bowl\n",
      "a wooden structure has a blue face and orange flowers\n",
      "a cat squinting laying down against it\n",
      "black and an antique cat walking through the front of car\n",
      "here is waiting to its well lit box\n",
      "types of cats are approaching metal paws in the food\n",
      "up bite cat sitting on a toilet cushion\n",
      "young well finished machine in a lap in a stuffed vase\n",
      "several giraffes are streaks while gathered in a grass\n",
      "--------------------------------------------\n",
      "a bouquet of purple cats inside the window\n",
      "a big cat sitting on the floor working and fork\n",
      "gray and orange teddy bear and some kittens\n",
      "a large monkey sign and a tree in the background\n",
      "an artistic kitten on the with winnie the bottle of the #UNK#\n",
      "cat and three toys one have need into the in the same\n",
      "water outside features a teddy fire hydrant while they on the rug\n",
      "a cat perched on the stuffed sheet\n",
      "well perched lined on the ground\n",
      "two present stand on the courts at the wild\n",
      "--------------------------------------------\n",
      "decoration of a stuffed animal dressed in an enclosure\n",
      "a small teddy bear with #UNK# string\n",
      "\n",
      "a tabby cat laying on a table next to him\n",
      "a young woman standing next to a dog place\n",
      "a beige cat is soaking in the any #UNK#\n",
      "a cat standing in the middle of there facing a basket\n",
      "dog drinking plants in a sanctuary\n",
      "a cat with a solar harvest closed a grassy phone\n",
      "dog eating food in grassy with a green mat\n",
      "--------------------------------------------\n",
      "a brown tan haired cat sitting sitting on the shoes\n",
      "a white cat laying next to a blue cushion\n",
      "the baby looking at a seat and someone pouring a childs brush\n",
      "cat sitting ready its directly at a thick mug with a donut\n",
      "doughnuts with bright bird on it is filled with chimney\n",
      "cat eating video next to a cat lounging in the afternoon\n",
      "a white and white cat puts boots on top of broccoli\n",
      "reflection of two bed in the rain looking like a slice of #UNK# picture\n",
      "black dog sitting on a circular shelf sill\n",
      "a cat that has its paw in the middle of its mouth\n",
      "--------------------------------------------\n",
      "two a hay and a cat standing next to each other\n",
      "two cats this in a black blanket sill\n",
      "two teddy bears sitting on either by a table\n",
      "a brown teddy bear sitting on the wooden chair\n",
      "part of a white tiny bull sleeping in a mens cage\n",
      "aerial picture of a large cat and long worn ribbons\n",
      "black and orange sitting on a antique couch in the window\n",
      "two brown animals in a bathroom sill\n",
      "a picture of a cat looking at a very white dog\n",
      "a cat laying in a branch eating\n",
      "--------------------------------------------\n",
      "a small cat is looking in the middle of another fruit\n",
      "three cats looking a womans pillows\n",
      "too #UNK# teddy bears in a room next to it\n",
      "photo of a baby sitting on a table with some donuts\n",
      "a white cat is close to #UNK# a piece of small green vegetable\n",
      "a black and white photograph of covers in blue\n",
      "pictures of a camera with a planter with spinach branches\n",
      "a white teddy bear with a wooden chair in the owner a window\n",
      "birds are sitting at a planter in a water area\n",
      "a cat sitting and a misshapen out of summer cover\n",
      "--------------------------------------------\n",
      "a large stuffed and white sized teddy bear and a cat sitting on the table\n",
      "a cat that is opened through a shoe\n",
      "black cat that has a stuffed animal in it\n",
      "cat wandering by the teddy bear\n",
      "a large bunch of grey and white cup\n",
      "two birds sitting on a coach looking fixture out\n",
      "a cat is near a teddy bear looking in a car\n",
      "large light level tabby teddy bear on trees\n",
      "a large variety of one shoes and stuffed animal and purple ware\n",
      "cat standing at we can eat cloth\n",
      "--------------------------------------------\n",
      "thin cute cat looking posing near a vine\n",
      "child #UNK# check its head on a blanket with the ball\n",
      "animals see all above a bird right nose\n",
      "bathroom through a dog stretching to be feeder nurses bread\n",
      "#UNK# is curious boiled clocks in a probably colored playground\n",
      "a cat blows over out a smaller tree in a brown screen\n",
      "a large teddy bear sits in a fenced lot\n",
      "#UNK# white nursing braids nearly book with mugs of cardboard\n",
      "a table with a teddy bear in front of it\n",
      "a chihuahua and teddy bear piled on the grassy table\n",
      "--------------------------------------------\n",
      "hand holding an image aged donut with its christmas #UNK# stretched\n",
      "a cat dressed on a wood #UNK# by benches\n",
      "two #UNK# in a small enclosure\n",
      "pink cat watches a bed in the lush green cloth\n",
      "a close up of a stuffed cat rests closed leaves on a bench\n",
      "white stuffed animal and a painting of water\n",
      "parents stuffed dogs on shows looking with a drink\n",
      "red cat magnet by fence in a very nice day\n",
      "the sun is relaxing facing it and brown box\n",
      "two buildings #UNK# in a chair stall\n",
      "--------------------------------------------\n",
      "shadows laying on a white twig next to a rose behind chair\n",
      "black and stuffed animals sitting next to each other\n",
      "a cat heads flower against some food next to a store\n",
      "looking like something that are perched on the bed\n",
      "an asian cat pointing very herself underneath a teddy bear\n",
      "animals looking into a large window sill has up the leaves\n",
      "a stuffed animal sitting on the side of two urinals looking at a green car\n",
      "young female goats are sitting on grass\n",
      "two animals opposite into together in a bunch\n",
      "a little beat cat holding a rainbow pinned\n",
      "--------------------------------------------\n",
      "a gray cat looks its womans door open and a dog\n",
      "a young baby is laying sitting down on a couch filled with a food drizzled\n",
      "tin partially child equipped with its bib enjoying more\n",
      "three graham cats stand in a grassy pad\n",
      "zebras superimposed rest at looking hands in a room\n",
      "a yellow and white cat looks out now paper\n",
      "cat looking at an animal in an open flower\n",
      "three cats in a yellow room with plants\n",
      "the cat is #UNK# in a large doggy hat\n",
      "cat made used with a stuffed dog extending up on a forest\n",
      "--------------------------------------------\n",
      "sandwich and glass of flowers with vegetables and two art in food\n",
      "chickens clock sitting on a pillow next to a white bowl\n",
      "a cat that is sitting on the bed\n",
      "a toy dog texting on a bright stone table\n",
      "woman sticking off so a teddy bear on an pattern\n",
      "two pink american teddy bears sitting on a chair\n",
      "a little tabby bear sitting across on a table\n",
      "the large cat is indicating three animals\n",
      "a pretty cute cat that is by a teddy bear\n",
      "white photo of a very small teddy bears\n",
      "--------------------------------------------\n",
      "a white cat sits in a pink wall\n",
      "an asian cat stands on a computer phone\n",
      "a young boy is sitting down together straight by\n",
      "grey grey haired cat eating a green car\n",
      "a teddy bear sits face in front of a gray rat with a green comforter on it\n",
      "three polar bears eating from a lawn structure\n",
      "a tiny white cat sticking its teeth with a stuffed animal\n",
      "the bird in the diaper in the room\n",
      "a black kitten sitting on a lush blue counter by water\n",
      "black and white stainless roses sitting in a forest\n",
      "--------------------------------------------\n",
      "kitten on a cat behind their tiger red napkin\n",
      "teddy and brown cat sleeping in the quilt window\n",
      "a cat eating a red and plates in a bedroom faucet\n",
      "three cats on a couch with a stuffed dog in front of a wooden wheel truck and a keyboard #UNK#\n",
      "a group of small pretty stuffed bears enjoying something behind\n",
      "very cats are bears together in the jungle\n",
      "the sliced and black cat is posed at the curb\n",
      "big cat looking like a dog with its head face\n",
      "two an teddy bear that is looking at the camera\n",
      "a doll and yellow teddy bear eating near clutter\n",
      "--------------------------------------------\n",
      "someone holding a black toy nose is sitting on a ground sill\n",
      "a cat and parked on top of a round white table\n",
      "woman a picture sadly paint and giraffes in the camera\n",
      "a cat is laying on buns\n",
      "a cat sitting in some very other sunlight\n",
      "a small bear is hammer is seated up in a chair\n",
      "a stuffed animal sitting that are in a blow dryer view\n",
      "a bunch of stuffed animals in a vase\n",
      "a teddy bear laying in a tusks sitting\n",
      "a large sheep eating a curved banana\n",
      "--------------------------------------------\n",
      "a white vase that has its face bunches sheet and flowers is in front\n",
      "a cat that is in the back of a puts the top\n",
      "a cat that is holding a computer in a black shirt\n",
      "a counter and include different types of out\n",
      "a stuffed animal is sitting on a couch holding a teddy bear\n",
      "a cat that has a feild on a stone table\n",
      "a teddy bear is staring at a camera\n",
      "a cat sitting on a grassy table with water rise frisbee in it\n",
      "large pretty black flower cat reaches asleep in the grass\n",
      "a close up of a cat in an open living area\n",
      "--------------------------------------------\n",
      "men on a floor in a touching top\n",
      "a cat watching on a plastic sheet\n",
      "a black red cat that is sitting on a bench with its leaves\n",
      "out of teddy bears in a green vase\n",
      "a dog staring for a picture in the grass\n",
      "cute toy up a fire hydrant\n",
      "brown tabby cat panda in purple gloves near a brown bear\n",
      "toy and white flowers looking at umbrella\n",
      "two teddy bear sitting on each grass\n",
      "two black flowers in front of a house\n",
      "--------------------------------------------\n",
      "a cat is an umbrella with a year background\n",
      "a colorful like large oatmeal with head and a single stuffed cat are near its mouth\n",
      "a gray orange white and white white stuffed bear\n",
      "a wooden cat is pulled through the magazine\n",
      "a cat looks out on the side of grass in a basket\n",
      "a number of white teddy bears are in five cannot\n",
      "a blank fluffy stuffed animal with a colorful babys mouth\n",
      "a cat looking at something from rest on the dining phone\n",
      "a cat biting into an outdoor open\n",
      "a cat looking out by side\n",
      "--------------------------------------------\n",
      "a brown and white cat sitting on a fork sheet\n",
      "a cat standing next to a piano with a black dog\n",
      "black and white cat on a small white electrical day\n",
      "flowers that being took in a chair with many around\n",
      "a teddy bears animals and stuffed sitting on a couch case\n",
      "a cat laying on a bench and both and some #UNK#\n",
      "black cat ornament carrots and with food boxes the window\n",
      "three dishes are sitting at each grass\n",
      "a smiling cat holds a pink teddy bear sticking by a bottle of ice leaves\n",
      "stuffed and white teddy bear laying on top of one together\n",
      "--------------------------------------------\n",
      "a brown cat looking cat limbs inside of a basket\n",
      "cat are flavored so seen stacked from a window\n",
      "a large teddy bear is lying against a tree\n",
      "a woman lounging in front of a yellow bench\n",
      "sheep is hanging out of window near an open curb\n",
      "the close up on the table for a flower and the can of john\n",
      "baby stockings looking at the #UNK# of a cat eating\n",
      "a cat is standing on the deep sidewalk\n",
      "two large cats laying on a wooden bench outside\n",
      "four captive cats in a barn and machine\n",
      "--------------------------------------------\n",
      "a row a stuffed animal is laying on the grass with its centerpiece\n",
      "small grey painting of a green and bear\n",
      "a box of tall stuffed animals sitting on a porch\n",
      "black and white dog looking into a fence\n",
      "#UNK# looking up in a glass car\n",
      "a stuffed teddy bear sits on a cushion\n",
      "oriental large photo of some wooden eyes\n",
      "people wearing black and white and black shirts animals in a basket\n",
      "a cat with a teddy bear on a wooden bed\n",
      "arena looks at stuffed toy posed below the window with #UNK#\n",
      "--------------------------------------------\n",
      "the teddy bear pup headed up to showing the canopies\n",
      "purple cat laying down with a green wide piece of grass\n",
      "a cat is golden as a two small cat on it\n",
      "the cat smiles at fuzzy vases\n",
      "a small display shot of a gold vases\n",
      "apples into the banana seat on the stove\n",
      "a close up of cat on the prairie or tongue its window\n",
      "a statue many a two teddy bear displayed in a palm gray styled circle\n",
      "a teddy bear eating sprinkles\n",
      "a blue teddy bear curled up covered with a eyes and broccoli behind it\n",
      "--------------------------------------------\n",
      "a kitten is sitting at a pile of food\n",
      "green teddy bear is sitting on a chair\n",
      "the red and uniformed cat sitting in an open chair\n",
      "a baby cat sitting next to a wooden straw\n",
      "two yellow cats gather up by a cat tower\n",
      "little blurry cat with a tooth face look out on it\n",
      "a girl is standing in a pond\n",
      "a cat in a dried glass of boxes of keys\n",
      "a cat is sitting with a string\n",
      "cat against a pink piece of chocolate\n",
      "--------------------------------------------\n",
      "the bird walk beneath the grass on the wood shelf\n",
      "short flowery cat in front of brown fake apple\n",
      "woman looking filling from inside of a apple\n",
      "a baby that black cat on a stems\n",
      "a picture of a teddy bear hanging out window\n",
      "a cat sitting in a window\n",
      "a pretty brown cat is asleep watching the other ground with a colorful heart which off out hand\n",
      "a brown cat is sitting in a cake\n",
      "a cat is sitting on top of a tarmac\n",
      "two teddy bears is standing next to the other in the room\n",
      "--------------------------------------------\n",
      "teddy cat box full of several people in a bathroom\n",
      "a stuffed animal outside the gate\n",
      "cat is standing in brush under fruits\n",
      "a pair of cats appears to brownies with backing on them on a carpet in the tree\n",
      "a cow sitting on the side of a tree mouse\n",
      "a young happy teddy bear in a vase on a lush black\n",
      "a cat is looking into a partially eaten\n",
      "young kids and silly implements on a bed\n",
      "a black and white and black cat sitting on a rocky surface\n",
      "flock of animals laying down on a branch\n",
      "--------------------------------------------\n",
      "a small teddy bear with milk separated and vegetables\n",
      "baseball and teddy bears in front of a black chair\n",
      "a dog sitting with a yellow umbrella in its mouth\n",
      "a stuffed abandoned white cat laying on a chair in the sun\n",
      "a cat sitting at a table full of tightly\n",
      "black teddy and white cat sitting on a grass field\n",
      "a stuffed teddy bear standing with a tiny stuffed bear\n",
      "stuffed yellow cat sitting on a chair sill\n",
      "two black and white bears in a vase\n",
      "a cat with a red ribbon in front of a green vase\n",
      "--------------------------------------------\n",
      "there is a cat standing on a chair next to a keyboard\n",
      "a cat laying on as a lamb is on a bench thats grazing\n",
      "small orange cat laying on top of the window\n",
      "the cat sitting at the top of an object\n",
      "the large brown cat laying on a metal chair\n",
      "a teddy and white photo of a house in a green blue plate\n",
      "four animals sitting on a lamb covered on a vase\n",
      "a baby looking down a messenger face\n",
      "the teddy bear reading its cities with christmas its old\n",
      "bear on a bed in a bib\n",
      "--------------------------------------------\n",
      "a white cat surrounded by a bench looking right\n",
      "a cat is wearing a bowl next to cuddles\n",
      "an animal with a roots wearing a toy says barn\n",
      "a cat in a mouth sill sitting outside\n",
      "two stuffed bears that are on the next to his hand\n",
      "a lamb is making a stuffed open face\n",
      "a cat with its mouth trek next to a small teddy bear\n",
      "two pretty brownies lined from one man next to a vase\n",
      "a close up of a cat and orange eyes\n",
      "a car is covered next to a down in a city\n",
      "--------------------------------------------\n",
      "a small cat with its adorable disc and one #UNK#\n",
      "a teddy bear is sitting on the end of a chair\n",
      "view of the corner and a open vase\n",
      "a small polar bear hanging out of a vase\n",
      "he f a photo of a yard of some kittens\n",
      "a dog that is natural standing being by garnished\n",
      "a large bright teddy bear with teddy bears in the dark\n",
      "a white cat holds its paws on its side\n",
      "dogs and older stuffed animals in a living room\n",
      "a cat stands in the chair near a long cell phone\n",
      "--------------------------------------------\n",
      "itself in a #UNK# with two cats standing around against a pizzeria\n",
      "woman wearing two looking glasses putting them to her\n",
      "fire lifting guard and several bushes which can move from it\n",
      "grey cat smiles against a green flower\n",
      "a toddler brushing moped bus outside from it in a thin park\n",
      "small infant is standing on a table in a small garden\n",
      "two stuffed animals and broccoli in the grass\n",
      "a cat that is sleeping on a goose\n",
      "a brown orange cat eating a tree for a condiments\n",
      "children are sleeping in the area with a stuffed elephant in a rabbit\n",
      "--------------------------------------------\n",
      "a black teddy bear digging next to a wooden table\n",
      "a thin cat is laying in the lap of a bench in front of the rim\n",
      "a fire hydrant and a small cat face on the side\n",
      "a cat is sitting on a table\n",
      "teddy bear with dishes and a cat advertising on a car\n",
      "cat looking picture is #UNK# holding a child in to branches\n",
      "a small toy and fish golden car with an antique tie\n",
      "kids lying outside of very brown teddy bear\n",
      "a white cat sitting next to a window window while looking a vase\n",
      "2 a stuffed teddy bear sitting on benches\n",
      "--------------------------------------------\n",
      "black fluffy teddy bear add per street bottle\n",
      "a bag and black and woman are laying on a lush white vase\n",
      "teddy bears with almost cubs on top of a cellular place\n",
      "a cat and a cat stands next to each other\n",
      "two men are eating a small shovel\n",
      "an old cat is standing with two little teddy bears\n",
      "a large black cat close on a wooden wall\n",
      "a little bird cover in the yard\n",
      "various cute cats in a only looking held lodge\n",
      "the bees is a drink and a picture of gray flowers\n",
      "--------------------------------------------\n",
      "teddy bear that are made in an cut shot of pavement\n",
      "a 3 animal is leaning on a green scratching grass\n",
      "three twin brown panda bears sitting on ornate faucet\n",
      "a gray cat curled on shoes on a yellow cushion\n",
      "a red puppy laying next to a chain bottle\n",
      "girl is bent book and wearing water house\n",
      "a long teddy bear is sitting on a shelf view of a tree\n",
      "several grey cat sitting mounted to a cat on wood floor next to a stuffed dog\n",
      "a cat is wearing a blue blouse\n",
      "a cat looks and orange teddy bear on a plant\n",
      "--------------------------------------------\n",
      "a man is looking at the camera with many one two hats are hanging\n",
      "a cat sitting on the edge of a circle of electronic art\n",
      "various teddy bears in each other\n",
      "sheep and kittens in a flower window\n",
      "a large stuffed animal knitted cub sitting in a bowl\n",
      "a view of a small cat with the face in the glass\n",
      "a cat with a yellow teddy bear stands before the sunlight sits close the window\n",
      "small teddy bear looks up in a vase full of other concrete\n",
      "a brown animals with pink looking at the camera\n",
      "cat functional and a cat in a plain vase\n",
      "--------------------------------------------\n",
      "a close up of a small teddy pattern\n",
      "neutral pocket haired animals in a ready to bite you frizbee\n",
      "backboard taken in its grass next to their a cat\n",
      "a white cat and baby putting skimpy smelling the window\n",
      "cat laying on a wooden bench next to a pile of doughnuts\n",
      "a black teddy bear eating its mouth to flowers\n",
      "cut into a picture of a pair of chickens\n",
      "a cat is lying on top of a giant wheat bench\n",
      "a grey cat standing next to a pair of vases\n",
      "a cat sitting on a curb at a bed\n",
      "--------------------------------------------\n",
      "there is a teddy bear laying at a fruit\n",
      "a woman sits in a field looking at a giant dog\n",
      "sheep two cat sit in a window sill\n",
      "a red teddy bear and mixing look from a patio\n",
      "a cat is standing on a shelf sill\n",
      "two close up of here with the their #UNK# tips a fork\n",
      "dinner cat sitting in the dashboard of the yet\n",
      "black cat laying on a plate next to a door\n",
      "lady not #UNK# from something on sunny station\n",
      "double style kitten is on paper animals\n",
      "--------------------------------------------\n",
      "a plush cat is laying on chair\n",
      "tree sitting on a end full sill\n",
      "an assortment of teddy bears sit on a grass top table\n",
      "many artistic kitty teddy bears and teddy bears\n",
      "woman with a red door is their held out\n",
      "a close up of a window truck in a room\n",
      "little pug gray cat laying down\n",
      "a cat showing a donut on face top on the window\n",
      "a woman holding horse nose looking to a smaller boat\n",
      "a lamb table with a teddy bear up in a wall\n",
      "--------------------------------------------\n",
      "cat that is standing on the bed in front of a starbucks tree\n",
      "a cat lying on a chair sitting by two stuffed animals\n",
      "pretty stuffed animals with a bird hanging seen\n",
      "two teddy bears sitting on a vase of main\n",
      "two teddy bears one on the vase in a shelf\n",
      "a cute stuffed animal upside in the travel with window cloth\n",
      "lady is topped covered on red enclosed area or window\n",
      "bunch of two furry pigs in a vase with all shining\n",
      "the school teddy bear is holding a pub #UNK#\n",
      "a small sheep looking at something readying to eat\n",
      "--------------------------------------------\n"
     ]
    }
   ],
   "source": [
    "for j in range(100):\n",
    "    for i in range(10):\n",
    "        print ' '.join(generate_caption(img,t=1.)[1:-1])\n",
    "    print('--------------------------------------------')"
   ]
  },
  {
   "cell_type": "markdown",
   "metadata": {},
   "source": [
    "# Bonus Part\n",
    "- Use ResNet Instead of GoogLeNet\n",
    "- Use W2V as embedding\n",
    "- Use Attention :) "
   ]
  },
  {
   "cell_type": "code",
   "execution_count": null,
   "metadata": {
    "collapsed": true
   },
   "outputs": [],
   "source": []
  },
  {
   "cell_type": "markdown",
   "metadata": {},
   "source": [
    "# Pass Assignment https://goo.gl/forms/2qqVtfepn0t1aDgh1 "
   ]
  }
 ],
 "metadata": {
  "kernelspec": {
   "display_name": "Python 2",
   "language": "python",
   "name": "python2"
  },
  "language_info": {
   "codemirror_mode": {
    "name": "ipython",
    "version": 2
   },
   "file_extension": ".py",
   "mimetype": "text/x-python",
   "name": "python",
   "nbconvert_exporter": "python",
   "pygments_lexer": "ipython2",
   "version": "2.7.13"
  }
 },
 "nbformat": 4,
 "nbformat_minor": 1
}
